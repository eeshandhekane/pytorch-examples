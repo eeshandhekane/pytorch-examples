{
 "cells": [
  {
   "cell_type": "code",
   "execution_count": 2,
   "metadata": {
    "collapsed": true,
    "pycharm": {
     "name": "#%%\n"
    }
   },
   "outputs": [],
   "source": [
    "# Dependencies\n",
    "import torch\n",
    "\n",
    "import numpy as np\n",
    "\n",
    "%matplotlib inline\n",
    "import matplotlib.pyplot as plt\n",
    "import matplotlib.ticker as ticker"
   ]
  },
  {
   "cell_type": "code",
   "execution_count": 13,
   "outputs": [
    {
     "name": "stdout",
     "output_type": "stream",
     "text": [
      "x: \n",
      "tensor([0.0000, 0.0635, 0.1269, 0.1904, 0.2539, 0.3173, 0.3808, 0.4443, 0.5077,\n",
      "        0.5712, 0.6347, 0.6981, 0.7616, 0.8251, 0.8885, 0.9520, 1.0155, 1.0789,\n",
      "        1.1424, 1.2059, 1.2693, 1.3328, 1.3963, 1.4597, 1.5232, 1.5867, 1.6501,\n",
      "        1.7136, 1.7771, 1.8405, 1.9040, 1.9675, 2.0309, 2.0944, 2.1579, 2.2213,\n",
      "        2.2848, 2.3483, 2.4117, 2.4752, 2.5387, 2.6021, 2.6656, 2.7291, 2.7925,\n",
      "        2.8560, 2.9195, 2.9829, 3.0464, 3.1099, 3.1733, 3.2368, 3.3003, 3.3637,\n",
      "        3.4272, 3.4907, 3.5541, 3.6176, 3.6811, 3.7445, 3.8080, 3.8715, 3.9349,\n",
      "        3.9984, 4.0619, 4.1253, 4.1888, 4.2523, 4.3157, 4.3792, 4.4427, 4.5061,\n",
      "        4.5696, 4.6331, 4.6965, 4.7600, 4.8235, 4.8869, 4.9504, 5.0139, 5.0773,\n",
      "        5.1408, 5.2043, 5.2677, 5.3312, 5.3947, 5.4581, 5.5216, 5.5851, 5.6485,\n",
      "        5.7120, 5.7755, 5.8389, 5.9024, 5.9659, 6.0293, 6.0928, 6.1563, 6.2197,\n",
      "        6.2832], requires_grad=True)\n",
      "y: \n",
      "tensor([ 0.0000e+00,  6.3424e-02,  1.2659e-01,  1.8925e-01,  2.5115e-01,\n",
      "         3.1203e-01,  3.7166e-01,  4.2979e-01,  4.8620e-01,  5.4064e-01,\n",
      "         5.9291e-01,  6.4279e-01,  6.9008e-01,  7.3459e-01,  7.7615e-01,\n",
      "         8.1458e-01,  8.4973e-01,  8.8145e-01,  9.0963e-01,  9.3415e-01,\n",
      "         9.5490e-01,  9.7181e-01,  9.8481e-01,  9.9384e-01,  9.9887e-01,\n",
      "         9.9987e-01,  9.9685e-01,  9.8982e-01,  9.7880e-01,  9.6384e-01,\n",
      "         9.4500e-01,  9.2235e-01,  8.9599e-01,  8.6603e-01,  8.3257e-01,\n",
      "         7.9576e-01,  7.5575e-01,  7.1269e-01,  6.6677e-01,  6.1816e-01,\n",
      "         5.6706e-01,  5.1368e-01,  4.5823e-01,  4.0093e-01,  3.4202e-01,\n",
      "         2.8173e-01,  2.2031e-01,  1.5800e-01,  9.5056e-02,  3.1728e-02,\n",
      "        -3.1728e-02, -9.5056e-02, -1.5800e-01, -2.2031e-01, -2.8173e-01,\n",
      "        -3.4202e-01, -4.0093e-01, -4.5823e-01, -5.1368e-01, -5.6706e-01,\n",
      "        -6.1816e-01, -6.6677e-01, -7.1269e-01, -7.5575e-01, -7.9576e-01,\n",
      "        -8.3257e-01, -8.6603e-01, -8.9599e-01, -9.2235e-01, -9.4500e-01,\n",
      "        -9.6384e-01, -9.7880e-01, -9.8982e-01, -9.9685e-01, -9.9987e-01,\n",
      "        -9.9887e-01, -9.9384e-01, -9.8481e-01, -9.7181e-01, -9.5490e-01,\n",
      "        -9.3415e-01, -9.0963e-01, -8.8145e-01, -8.4973e-01, -8.1458e-01,\n",
      "        -7.7615e-01, -7.3459e-01, -6.9008e-01, -6.4279e-01, -5.9291e-01,\n",
      "        -5.4064e-01, -4.8620e-01, -4.2979e-01, -3.7166e-01, -3.1203e-01,\n",
      "        -2.5115e-01, -1.8925e-01, -1.2659e-01, -6.3424e-02,  1.7485e-07],\n",
      "       grad_fn=<SinBackward>)\n",
      "z: \n",
      "tensor([ 0.0000e+00,  1.2685e-01,  2.5318e-01,  3.7850e-01,  5.0230e-01,\n",
      "         6.2407e-01,  7.4332e-01,  8.5959e-01,  9.7239e-01,  1.0813e+00,\n",
      "         1.1858e+00,  1.2856e+00,  1.3802e+00,  1.4692e+00,  1.5523e+00,\n",
      "         1.6292e+00,  1.6995e+00,  1.7629e+00,  1.8193e+00,  1.8683e+00,\n",
      "         1.9098e+00,  1.9436e+00,  1.9696e+00,  1.9877e+00,  1.9977e+00,\n",
      "         1.9997e+00,  1.9937e+00,  1.9796e+00,  1.9576e+00,  1.9277e+00,\n",
      "         1.8900e+00,  1.8447e+00,  1.7920e+00,  1.7321e+00,  1.6651e+00,\n",
      "         1.5915e+00,  1.5115e+00,  1.4254e+00,  1.3335e+00,  1.2363e+00,\n",
      "         1.1341e+00,  1.0274e+00,  9.1645e-01,  8.0186e-01,  6.8404e-01,\n",
      "         5.6347e-01,  4.4062e-01,  3.1600e-01,  1.9011e-01,  6.3456e-02,\n",
      "        -6.3456e-02, -1.9011e-01, -3.1600e-01, -4.4062e-01, -5.6347e-01,\n",
      "        -6.8404e-01, -8.0186e-01, -9.1645e-01, -1.0274e+00, -1.1341e+00,\n",
      "        -1.2363e+00, -1.3335e+00, -1.4254e+00, -1.5115e+00, -1.5915e+00,\n",
      "        -1.6651e+00, -1.7321e+00, -1.7920e+00, -1.8447e+00, -1.8900e+00,\n",
      "        -1.9277e+00, -1.9576e+00, -1.9796e+00, -1.9937e+00, -1.9997e+00,\n",
      "        -1.9977e+00, -1.9877e+00, -1.9696e+00, -1.9436e+00, -1.9098e+00,\n",
      "        -1.8683e+00, -1.8193e+00, -1.7629e+00, -1.6995e+00, -1.6292e+00,\n",
      "        -1.5523e+00, -1.4692e+00, -1.3802e+00, -1.2856e+00, -1.1858e+00,\n",
      "        -1.0813e+00, -9.7239e-01, -8.5959e-01, -7.4332e-01, -6.2407e-01,\n",
      "        -5.0229e-01, -3.7850e-01, -2.5318e-01, -1.2685e-01,  3.4969e-07],\n",
      "       grad_fn=<MulBackward0>)\n",
      "w: \n",
      "tensor([2.0000e+00, 2.1268e+00, 2.2532e+00, 2.3785e+00, 2.5023e+00, 2.6241e+00,\n",
      "        2.7433e+00, 2.8596e+00, 2.9724e+00, 3.0813e+00, 3.1858e+00, 3.2856e+00,\n",
      "        3.3802e+00, 3.4692e+00, 3.5523e+00, 3.6292e+00, 3.6995e+00, 3.7629e+00,\n",
      "        3.8193e+00, 3.8683e+00, 3.9098e+00, 3.9436e+00, 3.9696e+00, 3.9877e+00,\n",
      "        3.9977e+00, 3.9997e+00, 3.9937e+00, 3.9796e+00, 3.9576e+00, 3.9277e+00,\n",
      "        3.8900e+00, 3.8447e+00, 3.7920e+00, 3.7321e+00, 3.6651e+00, 3.5915e+00,\n",
      "        3.5115e+00, 3.4254e+00, 3.3335e+00, 3.2363e+00, 3.1341e+00, 3.0274e+00,\n",
      "        2.9165e+00, 2.8019e+00, 2.6840e+00, 2.5635e+00, 2.4406e+00, 2.3160e+00,\n",
      "        2.1901e+00, 2.0635e+00, 1.9365e+00, 1.8099e+00, 1.6840e+00, 1.5594e+00,\n",
      "        1.4365e+00, 1.3160e+00, 1.1981e+00, 1.0835e+00, 9.7265e-01, 8.6588e-01,\n",
      "        7.6368e-01, 6.6646e-01, 5.7461e-01, 4.8850e-01, 4.0848e-01, 3.3486e-01,\n",
      "        2.6795e-01, 2.0801e-01, 1.5529e-01, 1.1000e-01, 7.2316e-02, 4.2395e-02,\n",
      "        2.0357e-02, 6.2904e-03, 2.5177e-04, 2.2653e-03, 1.2323e-02, 3.0385e-02,\n",
      "        5.6377e-02, 9.0196e-02, 1.3170e-01, 1.8074e-01, 2.3709e-01, 3.0055e-01,\n",
      "        3.7085e-01, 4.4771e-01, 5.3082e-01, 6.1984e-01, 7.1443e-01, 8.1418e-01,\n",
      "        9.1872e-01, 1.0276e+00, 1.1404e+00, 1.2567e+00, 1.3759e+00, 1.4977e+00,\n",
      "        1.6215e+00, 1.7468e+00, 1.8732e+00, 2.0000e+00],\n",
      "       grad_fn=<AddBackward0>)\n",
      "*******************************************************************************\n",
      "x: \n",
      "tensor([0.0000, 0.0635, 0.1269, 0.1904, 0.2539, 0.3173, 0.3808, 0.4443, 0.5077,\n",
      "        0.5712, 0.6347, 0.6981, 0.7616, 0.8251, 0.8885, 0.9520, 1.0155, 1.0789,\n",
      "        1.1424, 1.2059, 1.2693, 1.3328, 1.3963, 1.4597, 1.5232, 1.5867, 1.6501,\n",
      "        1.7136, 1.7771, 1.8405, 1.9040, 1.9675, 2.0309, 2.0944, 2.1579, 2.2213,\n",
      "        2.2848, 2.3483, 2.4117, 2.4752, 2.5387, 2.6021, 2.6656, 2.7291, 2.7925,\n",
      "        2.8560, 2.9195, 2.9829, 3.0464, 3.1099, 3.1733, 3.2368, 3.3003, 3.3637,\n",
      "        3.4272, 3.4907, 3.5541, 3.6176, 3.6811, 3.7445, 3.8080, 3.8715, 3.9349,\n",
      "        3.9984, 4.0619, 4.1253, 4.1888, 4.2523, 4.3157, 4.3792, 4.4427, 4.5061,\n",
      "        4.5696, 4.6331, 4.6965, 4.7600, 4.8235, 4.8869, 4.9504, 5.0139, 5.0773,\n",
      "        5.1408, 5.2043, 5.2677, 5.3312, 5.3947, 5.4581, 5.5216, 5.5851, 5.6485,\n",
      "        5.7120, 5.7755, 5.8389, 5.9024, 5.9659, 6.0293, 6.0928, 6.1563, 6.2197,\n",
      "        6.2832], requires_grad=True)\n",
      "x: \n",
      "tensor([2.0000e+00, 2.1268e+00, 2.2532e+00, 2.3785e+00, 2.5023e+00, 2.6241e+00,\n",
      "        2.7433e+00, 2.8596e+00, 2.9724e+00, 3.0813e+00, 3.1858e+00, 3.2856e+00,\n",
      "        3.3802e+00, 3.4692e+00, 3.5523e+00, 3.6292e+00, 3.6995e+00, 3.7629e+00,\n",
      "        3.8193e+00, 3.8683e+00, 3.9098e+00, 3.9436e+00, 3.9696e+00, 3.9877e+00,\n",
      "        3.9977e+00, 3.9997e+00, 3.9937e+00, 3.9796e+00, 3.9576e+00, 3.9277e+00,\n",
      "        3.8900e+00, 3.8447e+00, 3.7920e+00, 3.7321e+00, 3.6651e+00, 3.5915e+00,\n",
      "        3.5115e+00, 3.4254e+00, 3.3335e+00, 3.2363e+00, 3.1341e+00, 3.0274e+00,\n",
      "        2.9165e+00, 2.8019e+00, 2.6840e+00, 2.5635e+00, 2.4406e+00, 2.3160e+00,\n",
      "        2.1901e+00, 2.0635e+00, 1.9365e+00, 1.8099e+00, 1.6840e+00, 1.5594e+00,\n",
      "        1.4365e+00, 1.3160e+00, 1.1981e+00, 1.0835e+00, 9.7265e-01, 8.6588e-01,\n",
      "        7.6368e-01, 6.6646e-01, 5.7461e-01, 4.8850e-01, 4.0848e-01, 3.3486e-01,\n",
      "        2.6795e-01, 2.0801e-01, 1.5529e-01, 1.1000e-01, 7.2316e-02, 4.2395e-02,\n",
      "        2.0357e-02, 6.2904e-03, 2.5177e-04, 2.2653e-03, 1.2323e-02, 3.0385e-02,\n",
      "        5.6377e-02, 9.0196e-02, 1.3170e-01, 1.8074e-01, 2.3709e-01, 3.0055e-01,\n",
      "        3.7085e-01, 4.4771e-01, 5.3082e-01, 6.1984e-01, 7.1443e-01, 8.1418e-01,\n",
      "        9.1872e-01, 1.0276e+00, 1.1404e+00, 1.2567e+00, 1.3759e+00, 1.4977e+00,\n",
      "        1.6215e+00, 1.7468e+00, 1.8732e+00, 2.0000e+00],\n",
      "       grad_fn=<AddBackward0>)\n"
     ]
    }
   ],
   "source": [
    "# Linear space.\n",
    "x = torch.linspace(start=0, end=2*np.pi, steps=100, requires_grad=True)  # Or, `.requires_grad_()`\n",
    "# Check the gradient function that is remembered.\n",
    "print('x: \\n{}'.format(x))\n",
    "y = torch.sin(input=x)\n",
    "print('y: \\n{}'.format(y))\n",
    "z = y * 2\n",
    "print('z: \\n{}'.format(z))\n",
    "w = z + 2\n",
    "print('w: \\n{}'.format(w))\n",
    "# Composed functions.\n",
    "print('*'*79)\n",
    "x = torch.linspace(start=0, end=2*np.pi, steps=100).requires_grad_()\n",
    "print('x: \\n{}'.format(x))\n",
    "w = torch.sin(x)*2 + 2\n",
    "print('x: \\n{}'.format(w))"
   ],
   "metadata": {
    "collapsed": false,
    "pycharm": {
     "name": "#%%\n"
    }
   }
  },
  {
   "cell_type": "code",
   "execution_count": 20,
   "outputs": [
    {
     "name": "stdout",
     "output_type": "stream",
     "text": [
      "w: \n",
      "tensor([2.0000e+00, 2.1268e+00, 2.2532e+00, 2.3785e+00, 2.5023e+00, 2.6241e+00,\n",
      "        2.7433e+00, 2.8596e+00, 2.9724e+00, 3.0813e+00, 3.1858e+00, 3.2856e+00,\n",
      "        3.3802e+00, 3.4692e+00, 3.5523e+00, 3.6292e+00, 3.6995e+00, 3.7629e+00,\n",
      "        3.8193e+00, 3.8683e+00, 3.9098e+00, 3.9436e+00, 3.9696e+00, 3.9877e+00,\n",
      "        3.9977e+00, 3.9997e+00, 3.9937e+00, 3.9796e+00, 3.9576e+00, 3.9277e+00,\n",
      "        3.8900e+00, 3.8447e+00, 3.7920e+00, 3.7321e+00, 3.6651e+00, 3.5915e+00,\n",
      "        3.5115e+00, 3.4254e+00, 3.3335e+00, 3.2363e+00, 3.1341e+00, 3.0274e+00,\n",
      "        2.9165e+00, 2.8019e+00, 2.6840e+00, 2.5635e+00, 2.4406e+00, 2.3160e+00,\n",
      "        2.1901e+00, 2.0635e+00, 1.9365e+00, 1.8099e+00, 1.6840e+00, 1.5594e+00,\n",
      "        1.4365e+00, 1.3160e+00, 1.1981e+00, 1.0835e+00, 9.7265e-01, 8.6588e-01,\n",
      "        7.6368e-01, 6.6646e-01, 5.7461e-01, 4.8850e-01, 4.0848e-01, 3.3486e-01,\n",
      "        2.6795e-01, 2.0801e-01, 1.5529e-01, 1.1000e-01, 7.2316e-02, 4.2395e-02,\n",
      "        2.0357e-02, 6.2904e-03, 2.5177e-04, 2.2653e-03, 1.2323e-02, 3.0385e-02,\n",
      "        5.6377e-02, 9.0196e-02, 1.3170e-01, 1.8074e-01, 2.3709e-01, 3.0055e-01,\n",
      "        3.7085e-01, 4.4771e-01, 5.3082e-01, 6.1984e-01, 7.1443e-01, 8.1418e-01,\n",
      "        9.1872e-01, 1.0276e+00, 1.1404e+00, 1.2567e+00, 1.3759e+00, 1.4977e+00,\n",
      "        1.6215e+00, 1.7468e+00, 1.8732e+00, 2.0000e+00],\n",
      "       grad_fn=<AddBackward0>)\n",
      "u: \n",
      "tensor([2.0000e+00, 2.1268e+00, 2.2532e+00, 2.3785e+00, 2.5023e+00, 2.6241e+00,\n",
      "        2.7433e+00, 2.8596e+00, 2.9724e+00, 3.0813e+00, 3.1858e+00, 3.2856e+00,\n",
      "        3.3802e+00, 3.4692e+00, 3.5523e+00, 3.6292e+00, 3.6995e+00, 3.7629e+00,\n",
      "        3.8193e+00, 3.8683e+00, 3.9098e+00, 3.9436e+00, 3.9696e+00, 3.9877e+00,\n",
      "        3.9977e+00, 3.9997e+00, 3.9937e+00, 3.9796e+00, 3.9576e+00, 3.9277e+00,\n",
      "        3.8900e+00, 3.8447e+00, 3.7920e+00, 3.7321e+00, 3.6651e+00, 3.5915e+00,\n",
      "        3.5115e+00, 3.4254e+00, 3.3335e+00, 3.2363e+00, 3.1341e+00, 3.0274e+00,\n",
      "        2.9165e+00, 2.8019e+00, 2.6840e+00, 2.5635e+00, 2.4406e+00, 2.3160e+00,\n",
      "        2.1901e+00, 2.0635e+00, 1.9365e+00, 1.8099e+00, 1.6840e+00, 1.5594e+00,\n",
      "        1.4365e+00, 1.3160e+00, 1.1981e+00, 1.0835e+00, 9.7265e-01, 8.6588e-01,\n",
      "        7.6368e-01, 6.6646e-01, 5.7461e-01, 4.8850e-01, 4.0848e-01, 3.3486e-01,\n",
      "        2.6795e-01, 2.0801e-01, 1.5529e-01, 1.1000e-01, 7.2316e-02, 4.2395e-02,\n",
      "        2.0357e-02, 6.2904e-03, 2.5177e-04, 2.2653e-03, 1.2323e-02, 3.0385e-02,\n",
      "        5.6377e-02, 9.0196e-02, 1.3170e-01, 1.8074e-01, 2.3709e-01, 3.0055e-01,\n",
      "        3.7085e-01, 4.4771e-01, 5.3082e-01, 6.1984e-01, 7.1443e-01, 8.1418e-01,\n",
      "        9.1872e-01, 1.0276e+00, 1.1404e+00, 1.2567e+00, 1.3759e+00, 1.4977e+00,\n",
      "        1.6215e+00, 1.7468e+00, 1.8732e+00, 2.0000e+00],\n",
      "       grad_fn=<AddBackward0>)\n",
      "v: \n",
      "tensor([ 0.0000e+00,  2.0410e-03,  1.6230e-02,  5.4226e-02,  1.2673e-01,\n",
      "         2.4305e-01,  4.1071e-01,  6.3515e-01,  9.1945e-01,  1.2642e+00,\n",
      "         1.6674e+00,  2.1247e+00,  2.6290e+00,  3.1712e+00,  3.7404e+00,\n",
      "         4.3240e+00,  4.9082e+00,  5.4788e+00,  6.0213e+00,  6.5213e+00,\n",
      "         6.9657e+00,  7.3424e+00,  7.6409e+00,  7.8530e+00,  7.9728e+00,\n",
      "         7.9970e+00,  7.9248e+00,  7.7582e+00,  7.5020e+00,  7.1632e+00,\n",
      "         6.7513e+00,  6.2775e+00,  5.7545e+00,  5.1962e+00,  4.6169e+00,\n",
      "         4.0312e+00,  3.4532e+00,  2.8960e+00,  2.3715e+00,  1.8897e+00,\n",
      "         1.4587e+00,  1.0843e+00,  7.6972e-01,  5.1558e-01,  3.2007e-01,\n",
      "         1.7890e-01,  8.5545e-02,  3.1555e-02,  6.8711e-03,  2.5551e-04,\n",
      "        -2.5552e-04, -6.8712e-03, -3.1555e-02, -8.5545e-02, -1.7890e-01,\n",
      "        -3.2007e-01, -5.1558e-01, -7.6972e-01, -1.0843e+00, -1.4587e+00,\n",
      "        -1.8897e+00, -2.3715e+00, -2.8960e+00, -3.4532e+00, -4.0312e+00,\n",
      "        -4.6169e+00, -5.1962e+00, -5.7545e+00, -6.2775e+00, -6.7513e+00,\n",
      "        -7.1632e+00, -7.5020e+00, -7.7582e+00, -7.9248e+00, -7.9970e+00,\n",
      "        -7.9728e+00, -7.8530e+00, -7.6409e+00, -7.3424e+00, -6.9657e+00,\n",
      "        -6.5213e+00, -6.0213e+00, -5.4788e+00, -4.9082e+00, -4.3240e+00,\n",
      "        -3.7404e+00, -3.1712e+00, -2.6290e+00, -2.1247e+00, -1.6674e+00,\n",
      "        -1.2642e+00, -9.1944e-01, -6.3514e-01, -4.1071e-01, -2.4305e-01,\n",
      "        -1.2673e-01, -5.4226e-02, -1.6230e-02, -2.0410e-03,  4.2762e-20],\n",
      "       grad_fn=<PowBackward0>)\n",
      "w == u: True\n",
      "w is u: False\n",
      "out: \n",
      "400.0000305175781\n",
      "out.grad_fn: <SumBackward0 object at 0x131cb8e20>\n"
     ]
    }
   ],
   "source": [
    "# Branched computations.\n",
    "x = torch.linspace(start=0, end=2*np.pi, steps=100, requires_grad=True)\n",
    "y = torch.sin(input=x)\n",
    "z = y * 2\n",
    "w = z + 2\n",
    "u = z + 2\n",
    "v = z ** 3\n",
    "print('w: \\n{}'.format(w))\n",
    "print('u: \\n{}'.format(u))\n",
    "print('v: \\n{}'.format(v))\n",
    "print('w == u: {}'.format(\n",
    "    torch.all(torch.eq(input=w, other=u))\n",
    "))\n",
    "print('w is u: {}'.format(w is u))\n",
    "# Autograd expects the final computation to lead to a scalar BY DEFAULT.\n",
    "out = (u + v + w).sum()  # Reduces the answer to a scalar of sum of all elements.\n",
    "print('out: \\n{}'.format(out))\n",
    "print('out.grad_fn: {}'.format(out.grad_fn))  # Checking the grad function."
   ],
   "metadata": {
    "collapsed": false,
    "pycharm": {
     "name": "#%%\n"
    }
   }
  },
  {
   "cell_type": "code",
   "execution_count": 41,
   "outputs": [
    {
     "name": "stdout",
     "output_type": "stream",
     "text": [
      "x.grad before `.backward()` call: \n",
      "None\n",
      "x.grad after `.backward()` call: \n",
      "tensor([ 2.0000,  1.8916,  1.5783,  1.0939,  0.4910, -0.1652, -0.8034, -1.3546,\n",
      "        -1.7589, -1.9727, -1.9727, -1.7589, -1.3546, -0.8034, -0.1652,  0.4910,\n",
      "         1.0939,  1.5783,  1.8916,  2.0000])\n"
     ]
    },
    {
     "data": {
      "text/plain": "<Figure size 432x288 with 1 Axes>",
      "image/png": "[encoded data removed]"
     },
     "metadata": {},
     "output_type": "display_data"
    },
    {
     "name": "stdout",
     "output_type": "stream",
     "text": [
      "gradients at y, z, w: None, None, None\n"
     ]
    },
    {
     "name": "stderr",
     "output_type": "stream",
     "text": [
      "<ipython-input-41-b5d25916685e>:23: UserWarning: The .grad attribute of a Tensor that is not a leaf Tensor is being accessed. Its .grad attribute won't be populated during autograd.backward(). If you indeed want the gradient for a non-leaf Tensor, use .retain_grad() on the non-leaf Tensor. If you access the non-leaf Tensor by mistake, make sure you access the leaf Tensor instead. See github.com/pytorch/pytorch/pull/30531 for more informations.\n",
      "  print('gradients at y, z, w: {}, {}, {}'.format(y.grad, z.grad, w.grad))  # ALL OF THESE ARE `None`, as stated above!\n"
     ]
    }
   ],
   "source": [
    "# Simple example to visualize gradients.\n",
    "x = torch.linspace(start=0, end=2*np.pi, steps=20, requires_grad=True)\n",
    "x_grad_old = x.grad\n",
    "print('x.grad before `.backward()` call: \\n{}'.format(x.grad))\n",
    "y = torch.sin(input=x)\n",
    "z = y * 2\n",
    "w = z + 2\n",
    "out = w.sum()\n",
    "out.backward()\n",
    "x_grads = x.grad\n",
    "print('x.grad after `.backward()` call: \\n{}'.format(x.grad))\n",
    "x_grad_pred = torch.cos(input=x)*2\n",
    "plt.style.use('dark_background')\n",
    "plt.grid(True)\n",
    "plt.plot(x.detach().numpy(), x_grads.detach().numpy(), color='green', label='backpropagated gradients', marker='x')\n",
    "plt.scatter(x.detach().numpy(), x_grad_pred.detach().numpy(), color='red', label='predicted backpropagated gradients', marker='o')\n",
    "plt.legend(loc='best')\n",
    "plt.show()\n",
    "\"\"\"\n",
    "After the `.backward()` pass, intermediate tensors will NOT have attached gradients.\n",
    "\"\"\"\n",
    "print('gradients at y, z, w: {}, {}, {}'.format(y.grad, z.grad, w.grad))  # ALL OF THESE ARE `None`, as stated above!"
   ],
   "metadata": {
    "collapsed": false,
    "pycharm": {
     "name": "#%%\n"
    }
   }
  },
  {
   "cell_type": "code",
   "execution_count": 39,
   "outputs": [],
   "source": [],
   "metadata": {
    "collapsed": false,
    "pycharm": {
     "name": "#%%\n"
    }
   }
  },
  {
   "cell_type": "code",
   "execution_count": null,
   "outputs": [],
   "source": [],
   "metadata": {
    "collapsed": false,
    "pycharm": {
     "name": "#%%\n"
    }
   }
  }
 ],
 "metadata": {
  "kernelspec": {
   "display_name": "Python 3",
   "language": "python",
   "name": "python3"
  },
  "language_info": {
   "codemirror_mode": {
    "name": "ipython",
    "version": 2
   },
   "file_extension": ".py",
   "mimetype": "text/x-python",
   "name": "python",
   "nbconvert_exporter": "python",
   "pygments_lexer": "ipython2",
   "version": "2.7.6"
  }
 },
 "nbformat": 4,
 "nbformat_minor": 0
}