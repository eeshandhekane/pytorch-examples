{
 "cells": [
  {
   "cell_type": "code",
   "execution_count": 1,
   "metadata": {
    "collapsed": true
   },
   "outputs": [],
   "source": [
    "# Dependencies.\n",
    "import torch\n",
    "import torch.nn as nn\n",
    "import torch.optim as optim\n",
    "\n",
    "import numpy as np"
   ]
  },
  {
   "cell_type": "code",
   "execution_count": 2,
   "outputs": [],
   "source": [
    "# Set constants.\n",
    "BATCH_SIZE = 4\n",
    "IN_DIM = 5\n",
    "OUT_DIM = 2"
   ],
   "metadata": {
    "collapsed": false,
    "pycharm": {
     "name": "#%%\n"
    }
   }
  },
  {
   "cell_type": "code",
   "execution_count": 3,
   "outputs": [],
   "source": [
    "# Set model, optimizer, inputs, and outputs.\n",
    "model = nn.Linear(\n",
    "    in_features=IN_DIM, out_features=OUT_DIM, bias=True\n",
    ")\n",
    "optimizer = optim.SGD(\n",
    "    params=model.parameters(), lr=1e-3\n",
    ")\n",
    "x = torch.randn(size=(BATCH_SIZE, IN_DIM))\n",
    "y = torch.randn(size=(BATCH_SIZE, OUT_DIM))"
   ],
   "metadata": {
    "collapsed": false,
    "pycharm": {
     "name": "#%%\n"
    }
   }
  },
  {
   "cell_type": "code",
   "execution_count": 4,
   "outputs": [
    {
     "name": "stdout",
     "output_type": "stream",
     "text": [
      "*******************************************************************************\n",
      "model weights:\n",
      "[[ 0.4377448   0.11098593  0.18216628  0.2425034   0.05848342]\n",
      " [ 0.15746039  0.00617778  0.4180209  -0.20695996 -0.01081291]]\n",
      "*******************************************************************************\n",
      "model biases:\n",
      "[-0.43076822 -0.32568341]\n"
     ]
    }
   ],
   "source": [
    "print('*'*79)\n",
    "print('model weights:\\n{}'.format(model.weight.data.clone().detach().numpy()))\n",
    "print('*'*79)\n",
    "print('model biases:\\n{}'.format(model.bias.data.clone().detach().numpy()))"
   ],
   "metadata": {
    "collapsed": false,
    "pycharm": {
     "name": "#%%\n"
    }
   }
  },
  {
   "cell_type": "code",
   "execution_count": 5,
   "outputs": [
    {
     "name": "stdout",
     "output_type": "stream",
     "text": [
      "*******************************************************************************\n",
      "new weights as np array:\n",
      "[[0.3 0.5 0.2 0.6 0.7]\n",
      " [0.  0.7 0.4 0.5 0.9]]\n",
      "*******************************************************************************\n",
      "new biases as np array:\n",
      "[0.3 0. ]\n"
     ]
    }
   ],
   "source": [
    "# Define initialization values as some numpy arrays.\n",
    "print('*'*79)\n",
    "weights_np = np.random.randint(0, 10, [2, 5])*1e-1\n",
    "print('new weights as np array:\\n{}'.format(weights_np))\n",
    "print('*'*79)\n",
    "biases_np = np.random.randint(0, 10, [2, ])*1e-1\n",
    "print('new biases as np array:\\n{}'.format(biases_np))"
   ],
   "metadata": {
    "collapsed": false,
    "pycharm": {
     "name": "#%%\n"
    }
   }
  },
  {
   "cell_type": "code",
   "execution_count": 6,
   "outputs": [],
   "source": [
    "model.weight.data = torch.from_numpy(weights_np).requires_grad_().float()\n",
    "model.bias.data = torch.from_numpy(biases_np).requires_grad_().float()"
   ],
   "metadata": {
    "collapsed": false,
    "pycharm": {
     "name": "#%%\n"
    }
   }
  },
  {
   "cell_type": "code",
   "execution_count": 7,
   "outputs": [
    {
     "name": "stdout",
     "output_type": "stream",
     "text": [
      "*******************************************************************************\n",
      "model weights after initialization from numpy:\n",
      "[[0.3 0.5 0.2 0.6 0.7]\n",
      " [0.  0.7 0.4 0.5 0.9]]\n",
      "*******************************************************************************\n",
      "model biases after initialization from numpy:\n",
      "[0.3 0. ]\n"
     ]
    }
   ],
   "source": [
    "print('*'*79)\n",
    "print('model weights after initialization from numpy:\\n{}'.format(model.weight.data.clone().detach().numpy()))\n",
    "print('*'*79)\n",
    "print('model biases after initialization from numpy:\\n{}'.format(model.bias.data.clone().detach().numpy()))"
   ],
   "metadata": {
    "collapsed": false,
    "pycharm": {
     "name": "#%%\n"
    }
   }
  },
  {
   "cell_type": "code",
   "execution_count": 8,
   "outputs": [],
   "source": [
    "model = model.train()\n",
    "optimizer.zero_grad()\n",
    "y_pred = model(x)\n",
    "loss = torch.mean((y - y_pred)**2)\n",
    "loss.backward()"
   ],
   "metadata": {
    "collapsed": false,
    "pycharm": {
     "name": "#%%\n"
    }
   }
  },
  {
   "cell_type": "code",
   "execution_count": 9,
   "outputs": [],
   "source": [
    "# Save old weights and biases.\n",
    "weights_before_reinit = model.weight.data.clone().detach().numpy()\n",
    "biases_before_reinit = model.bias.data.clone().detach().numpy()"
   ],
   "metadata": {
    "collapsed": false,
    "pycharm": {
     "name": "#%%\n"
    }
   }
  },
  {
   "cell_type": "code",
   "execution_count": 10,
   "outputs": [
    {
     "name": "stdout",
     "output_type": "stream",
     "text": [
      "*******************************************************************************\n",
      "model weights before re-initialization:\n",
      "[[0.3 0.5 0.2 0.6 0.7]\n",
      " [0.  0.7 0.4 0.5 0.9]]\n",
      "*******************************************************************************\n",
      "model biases before re-initialization:\n",
      "[0.3 0. ]\n"
     ]
    }
   ],
   "source": [
    "print('*'*79)\n",
    "print('model weights before re-initialization:\\n{}'.format(weights_before_reinit))\n",
    "print('*'*79)\n",
    "print('model biases before re-initialization:\\n{}'.format(biases_before_reinit))"
   ],
   "metadata": {
    "collapsed": false,
    "pycharm": {
     "name": "#%%\n"
    }
   }
  },
  {
   "cell_type": "code",
   "execution_count": 11,
   "outputs": [],
   "source": [
    "# Save gradients.\n",
    "d_weights = model.weight.grad.data.clone().detach().numpy()\n",
    "d_biases = model.bias.grad.data.clone().detach().numpy()"
   ],
   "metadata": {
    "collapsed": false,
    "pycharm": {
     "name": "#%%\n"
    }
   }
  },
  {
   "cell_type": "code",
   "execution_count": 12,
   "outputs": [
    {
     "name": "stdout",
     "output_type": "stream",
     "text": [
      "*******************************************************************************\n",
      "delta weights:\n",
      "[[ 0.4065137   0.2567979  -0.03359173  0.02399254  0.2703929 ]\n",
      " [ 0.10137926 -0.44343656  0.15873618  0.05178709  0.46842384]]\n",
      "*******************************************************************************\n",
      "delta biases:\n",
      "[-0.2774894   0.51822275]\n"
     ]
    }
   ],
   "source": [
    "print('*'*79)\n",
    "print('delta weights:\\n{}'.format(d_weights))\n",
    "print('*'*79)\n",
    "print('delta biases:\\n{}'.format(d_biases))"
   ],
   "metadata": {
    "collapsed": false,
    "pycharm": {
     "name": "#%%\n"
    }
   }
  },
  {
   "cell_type": "code",
   "execution_count": 13,
   "outputs": [
    {
     "name": "stdout",
     "output_type": "stream",
     "text": [
      "*******************************************************************************\n",
      "new weights for re-initialization as np array:\n",
      "[[0.6 0.1 0.5 0.2 0.5]\n",
      " [0.7 0.2 0.2 0.9 0.6]]\n",
      "*******************************************************************************\n",
      "new biases for re-initialization as np array:\n",
      "[0.5 0.8]\n"
     ]
    }
   ],
   "source": [
    "# Re-initialize weights manually to some other values.\n",
    "print('*'*79)\n",
    "weights_np_new = np.random.randint(0, 10, [2, 5])*1e-1\n",
    "print('new weights for re-initialization as np array:\\n{}'.format(weights_np_new))\n",
    "print('*'*79)\n",
    "biases_np_new = np.random.randint(0, 10, [2, ])*1e-1\n",
    "print('new biases for re-initialization as np array:\\n{}'.format(biases_np_new))"
   ],
   "metadata": {
    "collapsed": false,
    "pycharm": {
     "name": "#%%%\n"
    }
   }
  },
  {
   "cell_type": "code",
   "execution_count": 14,
   "outputs": [],
   "source": [
    "# Re-initialize weights.\n",
    "model.weight.data = torch.from_numpy(weights_np_new).requires_grad_().float()\n",
    "model.bias.data = torch.from_numpy(biases_np_new).requires_grad_().float()"
   ],
   "metadata": {
    "collapsed": false,
    "pycharm": {
     "name": "#%%%\n"
    }
   }
  },
  {
   "cell_type": "code",
   "execution_count": 15,
   "outputs": [],
   "source": [
    "# Save weights after re-initialization.\n",
    "weights_after_reinit = model.weight.data.clone().detach().numpy()\n",
    "biases_after_reinit = model.bias.data.clone().detach().numpy()"
   ],
   "metadata": {
    "collapsed": false,
    "pycharm": {
     "name": "#%%\n"
    }
   }
  },
  {
   "cell_type": "code",
   "execution_count": 16,
   "outputs": [
    {
     "name": "stdout",
     "output_type": "stream",
     "text": [
      "*******************************************************************************\n",
      "model weights after re-initialization:\n",
      "[[0.6 0.1 0.5 0.2 0.5]\n",
      " [0.7 0.2 0.2 0.9 0.6]]\n",
      "*******************************************************************************\n",
      "model biases after re-initialization:\n",
      "[0.5 0.8]\n"
     ]
    }
   ],
   "source": [
    "print('*'*79)\n",
    "print('model weights after re-initialization:\\n{}'.format(weights_after_reinit))\n",
    "print('*'*79)\n",
    "print('model biases after re-initialization:\\n{}'.format(biases_after_reinit))"
   ],
   "metadata": {
    "collapsed": false,
    "pycharm": {
     "name": "#%%\n"
    }
   }
  },
  {
   "cell_type": "code",
   "execution_count": 17,
   "outputs": [],
   "source": [
    "# Step the optimizer.\n",
    "optimizer.step()"
   ],
   "metadata": {
    "collapsed": false,
    "pycharm": {
     "name": "#%%\n"
    }
   }
  },
  {
   "cell_type": "code",
   "execution_count": 18,
   "outputs": [],
   "source": [
    "# Weights after step.\n",
    "weights_after_reinit_and_step = model.weight.data.clone().detach().numpy()\n",
    "biases_after_reinit_and_step = model.bias.data.clone().detach().numpy()"
   ],
   "metadata": {
    "collapsed": false,
    "pycharm": {
     "name": "#%%\n"
    }
   }
  },
  {
   "cell_type": "code",
   "execution_count": 19,
   "outputs": [
    {
     "name": "stdout",
     "output_type": "stream",
     "text": [
      "*******************************************************************************\n",
      "model weights after re-initialization and step:\n",
      "[[0.5995935  0.0997432  0.5000336  0.19997601 0.4997296 ]\n",
      " [0.6998986  0.20044345 0.19984126 0.8999482  0.5995316 ]]\n",
      "*******************************************************************************\n",
      "model biases after re-initialization and step:\n",
      "[0.50027746 0.7994818 ]\n"
     ]
    }
   ],
   "source": [
    "print('*'*79)\n",
    "print('model weights after re-initialization and step:\\n{}'.format(weights_after_reinit_and_step))\n",
    "print('*'*79)\n",
    "print('model biases after re-initialization and step:\\n{}'.format(biases_after_reinit_and_step))"
   ],
   "metadata": {
    "collapsed": false,
    "pycharm": {
     "name": "#%%\n"
    }
   }
  },
  {
   "cell_type": "code",
   "execution_count": 20,
   "outputs": [
    {
     "name": "stdout",
     "output_type": "stream",
     "text": [
      "*******************************************************************************\n",
      "weight updates are consistent:\n",
      "0.0\n",
      "*******************************************************************************\n",
      "bias updates are consistent:\n",
      "0.0\n"
     ]
    }
   ],
   "source": [
    "print('*'*79)\n",
    "print('weight updates are consistent:\\n{}'.format(\n",
    "    np.linalg.norm(weights_after_reinit_and_step - (weights_after_reinit - 1.0*1e-3*d_weights), ord=2),\n",
    "))\n",
    "print('*'*79)\n",
    "print('bias updates are consistent:\\n{}'.format(\n",
    "    np.linalg.norm(biases_after_reinit_and_step - (biases_after_reinit - 1.0*1e-3*d_biases), ord=2),\n",
    "))"
   ],
   "metadata": {
    "collapsed": false,
    "pycharm": {
     "name": "#%%\n"
    }
   }
  },
  {
   "cell_type": "code",
   "execution_count": null,
   "outputs": [],
   "source": [],
   "metadata": {
    "collapsed": false,
    "pycharm": {
     "name": "#%%\n"
    }
   }
  }
 ],
 "metadata": {
  "kernelspec": {
   "display_name": "Python 3",
   "language": "python",
   "name": "python3"
  },
  "language_info": {
   "codemirror_mode": {
    "name": "ipython",
    "version": 2
   },
   "file_extension": ".py",
   "mimetype": "text/x-python",
   "name": "python",
   "nbconvert_exporter": "python",
   "pygments_lexer": "ipython2",
   "version": "2.7.6"
  }
 },
 "nbformat": 4,
 "nbformat_minor": 0
}