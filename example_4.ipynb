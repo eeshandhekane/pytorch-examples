{
 "cells": [
  {
   "cell_type": "code",
   "execution_count": 1,
   "metadata": {
    "collapsed": true,
    "pycharm": {
     "name": "#%%\n"
    }
   },
   "outputs": [],
   "source": [
    "# Dependencies\n",
    "import torch\n",
    "import torch.nn as nn\n",
    "import torch.nn.functional as F\n",
    "from torch.utils import data\n",
    "import torchvision\n",
    "import torchvision.transforms as transforms\n",
    "import torch.optim as optim\n",
    "\n",
    "import numpy as np\n",
    "\n",
    "%matplotlib inline"
   ]
  },
  {
   "cell_type": "code",
   "execution_count": 2,
   "outputs": [],
   "source": [
    "scale: float = 0.5\n",
    "batch_size: int = 32"
   ],
   "metadata": {
    "collapsed": false,
    "pycharm": {
     "name": "#%%\n"
    }
   }
  },
  {
   "cell_type": "code",
   "execution_count": 3,
   "outputs": [],
   "source": [
    "test_transform = transforms.Compose(\n",
    "    [\n",
    "        transforms.ToTensor(),\n",
    "        transforms.Normalize(mean=(0.5, 0.5, 0.5), std=(0.5, 0.5, 0.5))\n",
    "    ]\n",
    ")\n",
    "\n",
    "# noinspection PyArgumentEqualDefault\n",
    "train_transform = transforms.Compose(\n",
    "    [\n",
    "        transforms.RandomCrop(size=32),\n",
    "        transforms.RandomHorizontalFlip(p=0.5),\n",
    "        transforms.RandomApply([\n",
    "                transforms.ColorJitter(brightness=0.8*scale, contrast=0.8*scale, saturation=0.8*scale, hue=0.2*scale)\n",
    "            ], p=0.2\n",
    "        ),\n",
    "        transforms.ToTensor(),\n",
    "        transforms.Normalize(mean=(0.5, 0.5, 0.5), std=(0.5, 0.5, 0.5))\n",
    "    ]\n",
    ")"
   ],
   "metadata": {
    "collapsed": false,
    "pycharm": {
     "name": "#%%\n"
    }
   }
  },
  {
   "cell_type": "code",
   "execution_count": 4,
   "outputs": [
    {
     "name": "stdout",
     "output_type": "stream",
     "text": [
      "Files already downloaded and verified\n",
      "Files already downloaded and verified\n"
     ]
    }
   ],
   "source": [
    "# noinspection pyArgumentEqualDefault,PyArgumentEqualDefault,PyArgumentEqualDefault\n",
    "cifar_train = torchvision.datasets.CIFAR10(\n",
    "    root='./data/cifar10/', train=True, transform=train_transform, download=True\n",
    ")\n",
    "cifar_test = torchvision.datasets.CIFAR10(\n",
    "    root='./data/cifar10/', train=False, transform=test_transform, download=True\n",
    ")"
   ],
   "metadata": {
    "collapsed": false,
    "pycharm": {
     "name": "#%%\n"
    }
   }
  },
  {
   "cell_type": "code",
   "execution_count": 5,
   "outputs": [],
   "source": [
    "# noinspection pyArgumentEqualDefault\n",
    "train_dataloader = data.DataLoader(\n",
    "    dataset=cifar_train, batch_size=batch_size, num_workers=2, shuffle=True\n",
    ")\n",
    "# noinspection pyArgumentEqualDefault,PyArgumentEqualDefault\n",
    "test_dataloader = data.DataLoader(\n",
    "    dataset=cifar_test, batch_size=batch_size, num_workers=2, shuffle=False\n",
    ")"
   ],
   "metadata": {
    "collapsed": false,
    "pycharm": {
     "name": "#%%\n"
    }
   }
  },
  {
   "cell_type": "code",
   "execution_count": 6,
   "outputs": [],
   "source": [
    "class LeNet(nn.Module):\n",
    "    r\"\"\"Implements the basic LeNet architecture.\n",
    "    \"\"\"\n",
    "\n",
    "    def __init__(self):\n",
    "        r\"\"\"The initializer.\n",
    "\n",
    "        Parameters\n",
    "        ----------\n",
    "\n",
    "        Returns\n",
    "        -------\n",
    "        \"\"\"\n",
    "        super(LeNet, self).__init__()\n",
    "        self.conv1 = nn.Conv2d(\n",
    "            in_channels=3, out_channels=6, kernel_size=(5, 5)\n",
    "        )\n",
    "        self.maxpool1 = nn.MaxPool2d(kernel_size=(2, 2))\n",
    "        self.conv2 = nn.Conv2d(\n",
    "            in_channels=6, out_channels=16, kernel_size=(5, 5)\n",
    "        )\n",
    "        self.maxpool2 = nn.MaxPool2d(kernel_size=(2, 2))\n",
    "        self.fc1 = nn.Linear(in_features=16*5*5, out_features=120)\n",
    "        self.fc2 = nn.Linear(in_features=120, out_features=84)\n",
    "        self.fc3 = nn.Linear(in_features=84, out_features=10)\n",
    "\n",
    "    #\n",
    "    def forward(self, x):\n",
    "        r\"\"\"Implements the forward pass of the network.\n",
    "\n",
    "        Parameters\n",
    "        ----------\n",
    "        x:\n",
    "            The input data tensor. SHAPE: [B, C, H, W].\n",
    "\n",
    "        Returns\n",
    "        -------\n",
    "        logits (implicit):\n",
    "            The logits tensor for the input. SHAPE: [B, 10].\n",
    "        \"\"\"\n",
    "        y1 = self.maxpool1(F.relu(self.conv1(x)))\n",
    "        y2 = self.maxpool2(F.relu(self.conv2(y1)))\n",
    "        y3 = F.relu(self.fc1(y2.view(y2.shape[0], -1)))\n",
    "        y4 = F.relu(self.fc2(y3))\n",
    "        return self.fc3(y4)\n"
   ],
   "metadata": {
    "collapsed": false,
    "pycharm": {
     "name": "#%%\n"
    }
   }
  },
  {
   "cell_type": "code",
   "execution_count": 7,
   "outputs": [],
   "source": [
    "model = LeNet()"
   ],
   "metadata": {
    "collapsed": false,
    "pycharm": {
     "name": "#%%\n"
    }
   }
  },
  {
   "cell_type": "code",
   "execution_count": 8,
   "outputs": [],
   "source": [
    "optimizer = optim.SGD(params=model.parameters(), lr=1e-3, momentum=0.9)"
   ],
   "metadata": {
    "collapsed": false,
    "pycharm": {
     "name": "#%%\n"
    }
   }
  },
  {
   "cell_type": "code",
   "execution_count": 14,
   "outputs": [
    {
     "name": "stdout",
     "output_type": "stream",
     "text": [
      "[TRAINING] Training batch: 0/1563\n",
      "[TRAINING] Training batch: 500/1563\n",
      "[TRAINING] Training batch: 1000/1563\n",
      "[TRAINING] Training batch: 1500/1563\n",
      "[TRAINING] Training batch: 1562/1563\n",
      "[INFO] Epoch: 0/2, Loss: 52.736910710789346\n",
      "[TESTING] Test accuracy: 0.45809999108314514\n",
      "[TRAINING] Training batch: 0/1563\n",
      "[TRAINING] Training batch: 500/1563\n",
      "[TRAINING] Training batch: 1000/1563\n",
      "[TRAINING] Training batch: 1500/1563\n",
      "[TRAINING] Training batch: 1562/1563\n",
      "[INFO] Epoch: 1/2, Loss: 49.81868948054787\n",
      "[TESTING] Test accuracy: 0.43939998745918274\n"
     ]
    }
   ],
   "source": [
    "epochs: int = 2\n",
    "\n",
    "for epoch in range(epochs):\n",
    "\n",
    "    total_loss: float = 0.0\n",
    "\n",
    "    model = model.train()\n",
    "\n",
    "    # For each batch, ...\n",
    "    for batch_idx, (imgs, labels) in enumerate(iterable=train_dataloader, start=0):\n",
    "\n",
    "        if batch_idx%500 == 0 or batch_idx == len(train_dataloader) - 1:\n",
    "            print('[TRAINING] Training batch: {}/{}'.format(batch_idx, int(np.ceil(len(train_dataloader)))))\n",
    "\n",
    "        logits = model(imgs)\n",
    "        loss = F.cross_entropy(input=logits, target=labels, reduction='sum')\n",
    "\n",
    "        # Clean the previous gradient.\n",
    "        optimizer.zero_grad()\n",
    "        loss.backward()\n",
    "\n",
    "        # Update loss for the batch.\n",
    "        total_loss += loss.item()\n",
    "\n",
    "        optimizer.step()\n",
    "\n",
    "    print('[INFO] Epoch: {}/{}, Loss: {}'.format(epoch, epochs, total_loss/len(train_dataloader)))\n",
    "\n",
    "    # Testing.\n",
    "    model = model.eval()\n",
    "\n",
    "    weighted_acc: float = 0\n",
    "    total_samples: int = 0\n",
    "\n",
    "    for _, (imgs, labels) in enumerate(iterable=test_dataloader, start=0):\n",
    "\n",
    "        pred = torch.argmax(\n",
    "            F.softmax(model(imgs), dim=1), dim=1\n",
    "        ).view(-1)\n",
    "        weighted_acc += torch.sum((pred==labels).float())\n",
    "        total_samples += imgs.shape[0]\n",
    "\n",
    "    print('[TESTING] Test accuracy: {}'.format(weighted_acc/total_samples))"
   ],
   "metadata": {
    "collapsed": false,
    "pycharm": {
     "name": "#%%\n"
    }
   }
  },
  {
   "cell_type": "code",
   "execution_count": null,
   "outputs": [],
   "source": [],
   "metadata": {
    "collapsed": false,
    "pycharm": {
     "name": "#%%\n"
    }
   }
  }
 ],
 "metadata": {
  "kernelspec": {
   "display_name": "Python 3",
   "language": "python",
   "name": "python3"
  },
  "language_info": {
   "codemirror_mode": {
    "name": "ipython",
    "version": 2
   },
   "file_extension": ".py",
   "mimetype": "text/x-python",
   "name": "python",
   "nbconvert_exporter": "python",
   "pygments_lexer": "ipython2",
   "version": "2.7.6"
  }
 },
 "nbformat": 4,
 "nbformat_minor": 0
}