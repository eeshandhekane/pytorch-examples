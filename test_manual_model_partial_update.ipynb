{
 "cells": [
  {
   "cell_type": "code",
   "execution_count": 1,
   "metadata": {
    "collapsed": true
   },
   "outputs": [],
   "source": [
    "import torch\n",
    "import torch.nn as nn\n",
    "\n",
    "import numpy as np\n",
    "\n",
    "import random\n",
    "\n",
    "import copy\n",
    "\n",
    "from collections import OrderedDict"
   ]
  },
  {
   "cell_type": "code",
   "execution_count": 2,
   "outputs": [],
   "source": [
    "IN_DIM = 5\n",
    "HIDDEN_DIM = 3\n",
    "OUT_DIM = 2"
   ],
   "metadata": {
    "collapsed": false,
    "pycharm": {
     "name": "#%%\n"
    }
   }
  },
  {
   "cell_type": "code",
   "execution_count": 3,
   "outputs": [],
   "source": [
    "# Set seeds.\n",
    "torch.manual_seed(43865)\n",
    "random.seed(43865)\n",
    "np.random.seed(43865)"
   ],
   "metadata": {
    "collapsed": false,
    "pycharm": {
     "name": "#%%\n"
    }
   }
  },
  {
   "cell_type": "code",
   "execution_count": 4,
   "outputs": [],
   "source": [
    "class Model(nn.Module):\n",
    "    r\"\"\"Basic model.\n",
    "    \"\"\"\n",
    "\n",
    "    def __init__(self):\n",
    "        r\"\"\"The initializer.\n",
    "        \"\"\"\n",
    "        super(Model, self).__init__()\n",
    "        self.fc1 = nn.Linear(\n",
    "            in_features=IN_DIM, out_features=HIDDEN_DIM, bias=False\n",
    "        )\n",
    "        self.fc2 = nn.Linear(\n",
    "            in_features=HIDDEN_DIM, out_features=OUT_DIM, bias=False\n",
    "        )\n",
    "\n",
    "    def forward(self, x):\n",
    "        r\"\"\"Implements the forward pass.\n",
    "\n",
    "        Parameters\n",
    "        ----------\n",
    "        x:\n",
    "            Input tensor.\n",
    "            SHAPE: [B, input_dim].\n",
    "\n",
    "        Returns\n",
    "        -------\n",
    "        feature (implicit):\n",
    "            The tensor of features of the input.\n",
    "            SHAPE: [B, output_dim].\n",
    "        \"\"\"\n",
    "        return self.fc2(self.fc1(x))\n",
    "\n",
    "model = Model()"
   ],
   "metadata": {
    "collapsed": false,
    "pycharm": {
     "name": "#%%\n"
    }
   }
  },
  {
   "cell_type": "code",
   "execution_count": 5,
   "outputs": [
    {
     "name": "stdout",
     "output_type": "stream",
     "text": [
      "*******************************************************************************\n",
      "name: fc1.weight\n",
      "value:\n",
      "tensor([[-0.3728, -0.3287,  0.2641,  0.2815, -0.2725],\n",
      "        [-0.1719,  0.0949,  0.2583, -0.0935, -0.3799],\n",
      "        [ 0.1419, -0.0349, -0.2499,  0.0175, -0.3181]])\n",
      "*******************************************************************************\n",
      "name: fc2.weight\n",
      "value:\n",
      "tensor([[ 0.1687,  0.5752, -0.3429],\n",
      "        [-0.5647,  0.2967, -0.4464]])\n"
     ]
    }
   ],
   "source": [
    "original_state_dict = copy.deepcopy(model.state_dict())\n",
    "for param, value in original_state_dict.items():\n",
    "    print('*'*79)\n",
    "    print('name: {}\\nvalue:\\n{}'.format(param, value))"
   ],
   "metadata": {
    "collapsed": false,
    "pycharm": {
     "name": "#%%\n"
    }
   }
  },
  {
   "cell_type": "code",
   "execution_count": 6,
   "outputs": [],
   "source": [
    "partial_state_dict_fc1 = OrderedDict([\n",
    "    (\n",
    "        'fc1.weight',\n",
    "        2.0*torch.from_numpy(\n",
    "            np.ones(shape=list(model.fc1.weight.data.shape))\n",
    "        ).float()\n",
    "     )\n",
    "])\n",
    "\n",
    "partial_state_dict_fc2 = OrderedDict([\n",
    "    (\n",
    "        'fc2.weight',\n",
    "        4.0*torch.from_numpy(\n",
    "            np.ones(shape=list(model.fc2.weight.data.shape))\n",
    "        ).float()\n",
    "     )\n",
    "])"
   ],
   "metadata": {
    "collapsed": false,
    "pycharm": {
     "name": "#%%\n"
    }
   }
  },
  {
   "cell_type": "code",
   "execution_count": 7,
   "outputs": [
    {
     "name": "stdout",
     "output_type": "stream",
     "text": [
      "*******************************************************************************\n",
      "name: fc1.weight\n",
      "value:\n",
      "tensor([[2., 2., 2., 2., 2.],\n",
      "        [2., 2., 2., 2., 2.],\n",
      "        [2., 2., 2., 2., 2.]])\n",
      "*******************************************************************************\n",
      "name: fc2.weight\n",
      "value:\n",
      "tensor([[ 0.1687,  0.5752, -0.3429],\n",
      "        [-0.5647,  0.2967, -0.4464]])\n"
     ]
    }
   ],
   "source": [
    "model.load_state_dict(partial_state_dict_fc1, strict=False)\n",
    "for param, value in model.state_dict().items():\n",
    "    print('*'*79)\n",
    "    print('name: {}\\nvalue:\\n{}'.format(param, value))"
   ],
   "metadata": {
    "collapsed": false,
    "pycharm": {
     "name": "#%%\n"
    }
   }
  },
  {
   "cell_type": "code",
   "execution_count": 8,
   "outputs": [
    {
     "name": "stdout",
     "output_type": "stream",
     "text": [
      "*******************************************************************************\n",
      "name: fc1.weight\n",
      "value:\n",
      "tensor([[2., 2., 2., 2., 2.],\n",
      "        [2., 2., 2., 2., 2.],\n",
      "        [2., 2., 2., 2., 2.]])\n",
      "*******************************************************************************\n",
      "name: fc2.weight\n",
      "value:\n",
      "tensor([[4., 4., 4.],\n",
      "        [4., 4., 4.]])\n"
     ]
    }
   ],
   "source": [
    "model.load_state_dict(partial_state_dict_fc2, strict=False)\n",
    "for param, value in model.state_dict().items():\n",
    "    print('*'*79)\n",
    "    print('name: {}\\nvalue:\\n{}'.format(param, value))"
   ],
   "metadata": {
    "collapsed": false,
    "pycharm": {
     "name": "#%%\n"
    }
   }
  },
  {
   "cell_type": "code",
   "execution_count": 9,
   "outputs": [
    {
     "name": "stdout",
     "output_type": "stream",
     "text": [
      "*******************************************************************************\n",
      "name: fc1.weight\n",
      "value:\n",
      "tensor([[-0.3728, -0.3287,  0.2641,  0.2815, -0.2725],\n",
      "        [-0.1719,  0.0949,  0.2583, -0.0935, -0.3799],\n",
      "        [ 0.1419, -0.0349, -0.2499,  0.0175, -0.3181]])\n",
      "*******************************************************************************\n",
      "name: fc2.weight\n",
      "value:\n",
      "tensor([[ 0.1687,  0.5752, -0.3429],\n",
      "        [-0.5647,  0.2967, -0.4464]])\n"
     ]
    }
   ],
   "source": [
    "model.load_state_dict(original_state_dict, strict=True)\n",
    "for param, value in model.state_dict().items():\n",
    "    print('*'*79)\n",
    "    print('name: {}\\nvalue:\\n{}'.format(param, value))"
   ],
   "metadata": {
    "collapsed": false,
    "pycharm": {
     "name": "#%%\n"
    }
   }
  },
  {
   "cell_type": "code",
   "execution_count": 10,
   "outputs": [
    {
     "name": "stdout",
     "output_type": "stream",
     "text": [
      "*******************************************************************************\n",
      "*******************************************************************************\n",
      "***************************************\n",
      "name: fc1.weight\n",
      "value:\n",
      "tensor([[-0.3728, -0.3287,  0.2641,  0.2815, -0.2725],\n",
      "        [-0.1719,  0.0949,  0.2583, -0.0935, -0.3799],\n",
      "        [ 0.1419, -0.0349, -0.2499,  0.0175, -0.3181]])\n",
      "***************************************\n",
      "name: fc2.weight\n",
      "value:\n",
      "tensor([[4., 4., 4.],\n",
      "        [4., 4., 4.]])\n",
      "*******************************************************************************\n",
      "*******************************************************************************\n",
      "***************************************\n",
      "name: fc1.weight\n",
      "value:\n",
      "tensor([[-0.3728, -0.3287,  0.2641,  0.2815, -0.2725],\n",
      "        [-0.1719,  0.0949,  0.2583, -0.0935, -0.3799],\n",
      "        [ 0.1419, -0.0349, -0.2499,  0.0175, -0.3181]])\n",
      "***************************************\n",
      "name: fc2.weight\n",
      "value:\n",
      "tensor([[ 0.1687,  0.5752, -0.3429],\n",
      "        [-0.5647,  0.2967, -0.4464]])\n",
      "*******************************************************************************\n",
      "*******************************************************************************\n",
      "***************************************\n",
      "name: fc1.weight\n",
      "value:\n",
      "tensor([[2., 2., 2., 2., 2.],\n",
      "        [2., 2., 2., 2., 2.],\n",
      "        [2., 2., 2., 2., 2.]])\n",
      "***************************************\n",
      "name: fc2.weight\n",
      "value:\n",
      "tensor([[ 0.1687,  0.5752, -0.3429],\n",
      "        [-0.5647,  0.2967, -0.4464]])\n"
     ]
    }
   ],
   "source": [
    "model.load_state_dict(partial_state_dict_fc2, strict=False)\n",
    "print('*'*79)\n",
    "print('*'*79)\n",
    "for param, value in model.state_dict().items():\n",
    "    print('*'*39)\n",
    "    print('name: {}\\nvalue:\\n{}'.format(param, value))\n",
    "print('*'*79)\n",
    "print('*'*79)\n",
    "model.load_state_dict(original_state_dict, strict=True)\n",
    "for param, value in model.state_dict().items():\n",
    "    print('*'*39)\n",
    "    print('name: {}\\nvalue:\\n{}'.format(param, value))\n",
    "print('*'*79)\n",
    "print('*'*79)\n",
    "model.load_state_dict(partial_state_dict_fc1, strict=False)\n",
    "for param, value in model.state_dict().items():\n",
    "    print('*'*39)\n",
    "    print('name: {}\\nvalue:\\n{}'.format(param, value))"
   ],
   "metadata": {
    "collapsed": false,
    "pycharm": {
     "name": "#%%\n"
    }
   }
  },
  {
   "cell_type": "code",
   "execution_count": 10,
   "outputs": [],
   "source": [],
   "metadata": {
    "collapsed": false,
    "pycharm": {
     "name": "#%%\n"
    }
   }
  }
 ],
 "metadata": {
  "kernelspec": {
   "display_name": "Python 3",
   "language": "python",
   "name": "python3"
  },
  "language_info": {
   "codemirror_mode": {
    "name": "ipython",
    "version": 2
   },
   "file_extension": ".py",
   "mimetype": "text/x-python",
   "name": "python",
   "nbconvert_exporter": "python",
   "pygments_lexer": "ipython2",
   "version": "2.7.6"
  }
 },
 "nbformat": 4,
 "nbformat_minor": 0
}