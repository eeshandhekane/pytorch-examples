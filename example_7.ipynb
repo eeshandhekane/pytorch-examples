{
 "cells": [
  {
   "cell_type": "code",
   "execution_count": 17,
   "metadata": {
    "collapsed": true,
    "pycharm": {
     "name": "#%%\n"
    }
   },
   "outputs": [],
   "source": [
    "# Dependencies\n",
    "import torch\n",
    "import torch.nn as nn\n",
    "\n",
    "import numpy as np\n",
    "\n",
    "%matplotlib inline"
   ]
  },
  {
   "cell_type": "code",
   "execution_count": 18,
   "outputs": [],
   "source": [
    "batch_size: int = 256\n",
    "input_dim: int = 10\n",
    "output_dim: int = 2\n",
    "hidden_dim: int = 5"
   ],
   "metadata": {
    "collapsed": false,
    "pycharm": {
     "name": "#%%\n"
    }
   }
  },
  {
   "cell_type": "code",
   "execution_count": 19,
   "outputs": [],
   "source": [
    "class Model(nn.Module):\n",
    "    r\"\"\"An example model.\n",
    "    \"\"\"\n",
    "\n",
    "    #\n",
    "    def __init__(self):\n",
    "        r\"\"\"The initializer.\n",
    "\n",
    "        Parameters\n",
    "        ----------\n",
    "\n",
    "        Returns\n",
    "        -------\n",
    "        \"\"\"\n",
    "        super(Model, self).__init__()\n",
    "        self.layer_1 = nn.Linear(in_features=input_dim, out_features=hidden_dim, bias=True)\n",
    "        self.act_1 = nn.ReLU()\n",
    "        self.layer_2 = nn.Linear(in_features=hidden_dim, out_features=output_dim, bias=True)\n",
    "\n",
    "    #\n",
    "    def forward(self, x: torch.Tensor) -> torch.Tensor:\n",
    "        r\"\"\"Implements the forward pass.\n",
    "\n",
    "        Parameters\n",
    "        ----------\n",
    "        x:\n",
    "            The input tensor.\n",
    "            SHAPE: [*<batch_dims>, input_dim].\n",
    "\n",
    "        Returns\n",
    "        -------\n",
    "        out:\n",
    "            The output tensor.\n",
    "            SHAPE: [*<batch_dims>, output_dim].\n",
    "        \"\"\"\n",
    "        out_1 = self.act_1(self.layer_1(x))\n",
    "        out = self.layer_2(out_1)\n",
    "        return  out"
   ],
   "metadata": {
    "collapsed": false,
    "pycharm": {
     "name": "#%%\n"
    }
   }
  },
  {
   "cell_type": "code",
   "execution_count": 20,
   "outputs": [
    {
     "name": "stdout",
     "output_type": "stream",
     "text": [
      "model:\n",
      "Model(\n",
      "  (layer_1): Linear(in_features=10, out_features=5, bias=True)\n",
      "  (act_1): ReLU()\n",
      "  (layer_2): Linear(in_features=5, out_features=2, bias=True)\n",
      ")\n"
     ]
    }
   ],
   "source": [
    "model = Model()\n",
    "print('model:\\n{}'.format(model))"
   ],
   "metadata": {
    "collapsed": false,
    "pycharm": {
     "name": "#%%\n"
    }
   }
  },
  {
   "cell_type": "code",
   "execution_count": 21,
   "outputs": [
    {
     "name": "stdout",
     "output_type": "stream",
     "text": [
      "input data shape: torch.Size([256, 10])\n",
      "output data shape: torch.Size([256, 10])\n"
     ]
    }
   ],
   "source": [
    "input_data = torch.randn(size=(batch_size, input_dim)).requires_grad_()\n",
    "output_data = torch.randn(size=(batch_size, input_dim)).requires_grad_()\n",
    "print('input data shape: {}'.format(input_data.shape))\n",
    "print('output data shape: {}'.format(output_data.shape))"
   ],
   "metadata": {
    "collapsed": false,
    "pycharm": {
     "name": "#%%\n"
    }
   }
  },
  {
   "cell_type": "code",
   "execution_count": null,
   "outputs": [],
   "source": [],
   "metadata": {
    "collapsed": false,
    "pycharm": {
     "name": "#%%\n"
    }
   }
  }
 ],
 "metadata": {
  "kernelspec": {
   "display_name": "Python 3",
   "language": "python",
   "name": "python3"
  },
  "language_info": {
   "codemirror_mode": {
    "name": "ipython",
    "version": 2
   },
   "file_extension": ".py",
   "mimetype": "text/x-python",
   "name": "python",
   "nbconvert_exporter": "python",
   "pygments_lexer": "ipython2",
   "version": "2.7.6"
  }
 },
 "nbformat": 4,
 "nbformat_minor": 0
}