{
 "cells": [
  {
   "cell_type": "code",
   "execution_count": 1,
   "metadata": {
    "collapsed": true
   },
   "outputs": [],
   "source": [
    "import torch\n",
    "import torch.nn as nn\n",
    "import torch.optim as optim\n",
    "\n",
    "import numpy as np"
   ]
  },
  {
   "cell_type": "code",
   "execution_count": 2,
   "outputs": [],
   "source": [
    "BATCH_SIZE = 4\n",
    "IN_DIM = 5\n",
    "OUT_DIM = 2"
   ],
   "metadata": {
    "collapsed": false,
    "pycharm": {
     "name": "#%%\n"
    }
   }
  },
  {
   "cell_type": "code",
   "execution_count": 3,
   "outputs": [],
   "source": [
    "model = nn.Linear(\n",
    "    in_features=IN_DIM, out_features=OUT_DIM, bias=True\n",
    ")\n",
    "\n",
    "optimizer = optim.SGD(\n",
    "    params=model.parameters(), lr=1e-3\n",
    ")\n",
    "\n",
    "x = torch.randn(size=(BATCH_SIZE, IN_DIM))\n",
    "y = torch.randn(size=(BATCH_SIZE, OUT_DIM))"
   ],
   "metadata": {
    "collapsed": false,
    "pycharm": {
     "name": "#%%\n"
    }
   }
  },
  {
   "cell_type": "code",
   "execution_count": 4,
   "outputs": [
    {
     "name": "stdout",
     "output_type": "stream",
     "text": [
      "*******************************************************************************\n",
      "model weights:\n",
      "[[ 0.13402611 -0.17495948 -0.33387586  0.2108041   0.02582273]\n",
      " [ 0.39484465 -0.27511713 -0.21096924  0.11630732 -0.30228046]]\n",
      "*******************************************************************************\n",
      "model biases:\n",
      "[ 0.17120987 -0.3511966 ]\n"
     ]
    }
   ],
   "source": [
    "print('*'*79)\n",
    "print('model weights:\\n{}'.format(model.weight.data.clone().detach().numpy()))\n",
    "print('*'*79)\n",
    "print('model biases:\\n{}'.format(model.bias.data.clone().detach().numpy()))"
   ],
   "metadata": {
    "collapsed": false,
    "pycharm": {
     "name": "#%%\n"
    }
   }
  },
  {
   "cell_type": "code",
   "execution_count": 5,
   "outputs": [],
   "source": [
    "_ = torch.nn.init.xavier_normal_(model.weight)\n",
    "_ = torch.nn.init.constant_(model.bias, 0)"
   ],
   "metadata": {
    "collapsed": false,
    "pycharm": {
     "name": "#%%\n"
    }
   }
  },
  {
   "cell_type": "code",
   "execution_count": 6,
   "outputs": [],
   "source": [
    "model = model.train()\n",
    "optimizer.zero_grad()\n",
    "y_pred = model(x)\n",
    "loss = torch.mean((y - y_pred)**2)\n",
    "loss.backward()"
   ],
   "metadata": {
    "collapsed": false,
    "pycharm": {
     "name": "#%%\n"
    }
   }
  },
  {
   "cell_type": "code",
   "execution_count": 7,
   "outputs": [],
   "source": [
    "# Save old weights and biases.\n",
    "weights_before_reinit = model.weight.data.clone().detach().numpy()\n",
    "biases_before_reinit = model.bias.data.clone().detach().numpy()"
   ],
   "metadata": {
    "collapsed": false,
    "pycharm": {
     "name": "#%%\n"
    }
   }
  },
  {
   "cell_type": "code",
   "execution_count": 8,
   "outputs": [
    {
     "name": "stdout",
     "output_type": "stream",
     "text": [
      "*******************************************************************************\n",
      "model weights before re-initialization:\n",
      "[[ 1.226915    1.0614384   0.3598972   0.8370321  -0.14699934]\n",
      " [-0.1565047   0.4408919   0.60147136  0.28267437  0.23321863]]\n",
      "*******************************************************************************\n",
      "model biases before re-initialization:\n",
      "[0. 0.]\n"
     ]
    }
   ],
   "source": [
    "print('*'*79)\n",
    "print('model weights before re-initialization:\\n{}'.format(weights_before_reinit))\n",
    "print('*'*79)\n",
    "print('model biases before re-initialization:\\n{}'.format(biases_before_reinit))"
   ],
   "metadata": {
    "collapsed": false,
    "pycharm": {
     "name": "#%%\n"
    }
   }
  },
  {
   "cell_type": "code",
   "execution_count": 9,
   "outputs": [],
   "source": [
    "# Save gradients.\n",
    "d_weights = model.weight.grad.data.clone().detach().numpy()\n",
    "d_biases = model.bias.grad.data.clone().detach().numpy()"
   ],
   "metadata": {
    "collapsed": false,
    "pycharm": {
     "name": "#%%\n"
    }
   }
  },
  {
   "cell_type": "code",
   "execution_count": 10,
   "outputs": [
    {
     "name": "stdout",
     "output_type": "stream",
     "text": [
      "*******************************************************************************\n",
      "delta weights:\n",
      "[[0.2993092  1.2013772  0.6499523  0.85826516 0.40363598]\n",
      " [0.19460805 0.6190603  0.49644375 0.22114085 0.1711989 ]]\n",
      "*******************************************************************************\n",
      "delta biases:\n",
      "[0.00441459 0.01844712]\n"
     ]
    }
   ],
   "source": [
    "print('*'*79)\n",
    "print('delta weights:\\n{}'.format(d_weights))\n",
    "print('*'*79)\n",
    "print('delta biases:\\n{}'.format(d_biases))"
   ],
   "metadata": {
    "collapsed": false,
    "pycharm": {
     "name": "#%%\n"
    }
   }
  },
  {
   "cell_type": "code",
   "execution_count": 11,
   "outputs": [],
   "source": [
    "# Re-initialize weights.\n",
    "_ = torch.nn.init.xavier_normal_(model.weight)\n",
    "_ = torch.nn.init.constant_(model.bias, 0)"
   ],
   "metadata": {
    "collapsed": false,
    "pycharm": {
     "name": "#%%%\n"
    }
   }
  },
  {
   "cell_type": "code",
   "execution_count": 12,
   "outputs": [],
   "source": [
    "# Save weights after re-initialization.\n",
    "weights_after_reinit = model.weight.data.clone().detach().numpy()\n",
    "biases_after_reinit = model.bias.data.clone().detach().numpy()"
   ],
   "metadata": {
    "collapsed": false,
    "pycharm": {
     "name": "#%%\n"
    }
   }
  },
  {
   "cell_type": "code",
   "execution_count": 13,
   "outputs": [
    {
     "name": "stdout",
     "output_type": "stream",
     "text": [
      "*******************************************************************************\n",
      "model weights after re-initialization:\n",
      "[[ 0.42601535 -0.25671273 -0.5048637   1.0244417   0.354806  ]\n",
      " [ 0.19252676 -0.1976713   1.0080578  -0.6726875   0.24037957]]\n",
      "*******************************************************************************\n",
      "model biases after re-initialization:\n",
      "[0. 0.]\n"
     ]
    }
   ],
   "source": [
    "print('*'*79)\n",
    "print('model weights after re-initialization:\\n{}'.format(weights_after_reinit))\n",
    "print('*'*79)\n",
    "print('model biases after re-initialization:\\n{}'.format(biases_after_reinit))"
   ],
   "metadata": {
    "collapsed": false,
    "pycharm": {
     "name": "#%%\n"
    }
   }
  },
  {
   "cell_type": "code",
   "execution_count": 14,
   "outputs": [],
   "source": [
    "# Step the optimizer.\n",
    "optimizer.step()"
   ],
   "metadata": {
    "collapsed": false,
    "pycharm": {
     "name": "#%%\n"
    }
   }
  },
  {
   "cell_type": "code",
   "execution_count": 15,
   "outputs": [],
   "source": [
    "# Weights after step.\n",
    "weights_after_reinit_and_step = model.weight.data.clone().detach().numpy()\n",
    "biases_after_reinit_and_step = model.bias.data.clone().detach().numpy()"
   ],
   "metadata": {
    "collapsed": false,
    "pycharm": {
     "name": "#%%\n"
    }
   }
  },
  {
   "cell_type": "code",
   "execution_count": 16,
   "outputs": [
    {
     "name": "stdout",
     "output_type": "stream",
     "text": [
      "*******************************************************************************\n",
      "model weights after re-initialization and step:\n",
      "[[ 0.42571604 -0.25791413 -0.5055136   1.0235834   0.35440236]\n",
      " [ 0.19233215 -0.19829035  1.0075614  -0.6729086   0.24020837]]\n",
      "*******************************************************************************\n",
      "model biases after re-initialization and step:\n",
      "[-4.4145886e-06 -1.8447117e-05]\n"
     ]
    }
   ],
   "source": [
    "print('*'*79)\n",
    "print('model weights after re-initialization and step:\\n{}'.format(weights_after_reinit_and_step))\n",
    "print('*'*79)\n",
    "print('model biases after re-initialization and step:\\n{}'.format(biases_after_reinit_and_step))"
   ],
   "metadata": {
    "collapsed": false,
    "pycharm": {
     "name": "#%%\n"
    }
   }
  },
  {
   "cell_type": "code",
   "execution_count": 17,
   "outputs": [
    {
     "name": "stdout",
     "output_type": "stream",
     "text": [
      "*******************************************************************************\n",
      "weight updates are consistent:\n",
      "0.0\n",
      "*******************************************************************************\n",
      "bias updates are consistent:\n",
      "0.0\n"
     ]
    }
   ],
   "source": [
    "print('*'*79)\n",
    "print('weight updates are consistent:\\n{}'.format(\n",
    "    np.linalg.norm(weights_after_reinit_and_step - (weights_after_reinit - 1.0*1e-3*d_weights), ord=2),\n",
    "))\n",
    "print('*'*79)\n",
    "print('bias updates are consistent:\\n{}'.format(\n",
    "    np.linalg.norm(biases_after_reinit_and_step - (biases_after_reinit - 1.0*1e-3*d_biases), ord=2),\n",
    "))"
   ],
   "metadata": {
    "collapsed": false,
    "pycharm": {
     "name": "#%%\n"
    }
   }
  },
  {
   "cell_type": "code",
   "execution_count": 17,
   "outputs": [],
   "source": [],
   "metadata": {
    "collapsed": false,
    "pycharm": {
     "name": "#%%\n"
    }
   }
  }
 ],
 "metadata": {
  "kernelspec": {
   "display_name": "Python 3",
   "language": "python",
   "name": "python3"
  },
  "language_info": {
   "codemirror_mode": {
    "name": "ipython",
    "version": 2
   },
   "file_extension": ".py",
   "mimetype": "text/x-python",
   "name": "python",
   "nbconvert_exporter": "python",
   "pygments_lexer": "ipython2",
   "version": "2.7.6"
  }
 },
 "nbformat": 4,
 "nbformat_minor": 0
}