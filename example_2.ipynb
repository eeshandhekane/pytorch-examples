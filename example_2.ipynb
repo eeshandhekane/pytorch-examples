{
 "cells": [
  {
   "cell_type": "code",
   "execution_count": 7,
   "metadata": {
    "collapsed": true
   },
   "outputs": [],
   "source": [
    "# Dependencies\n",
    "import torch\n",
    "import torch.nn as nn  # For torch.nn.Module object, of which each model is a subclass\n",
    "import torch.nn.functional as F  # For activation functions and other related utilities"
   ]
  },
  {
   "cell_type": "code",
   "execution_count": 25,
   "outputs": [],
   "source": [
    "class LeNet(nn.Module):\n",
    "    r\"\"\"Implements the basic LeNet architecture.\n",
    "    \"\"\"\n",
    "\n",
    "    #\n",
    "    def __init__(self):\n",
    "        r\"\"\"The initializer.\n",
    "        \"\"\"\n",
    "        super(LeNet, self).__init__()\n",
    "        # Define layers and other components\n",
    "        self.conv1 = nn.Conv2d(\n",
    "            in_channels=1, out_channels=6, kernel_size=(3, 3)\n",
    "        )  # [28, 28] -> [26, 26]\n",
    "        self.maxpool1 = nn.MaxPool2d(kernel_size=(2, 2))  # [26, 26] -> [13, 13]\n",
    "        self.conv2 = nn.Conv2d(\n",
    "            in_channels=6, out_channels=16, kernel_size=(3, 3)\n",
    "        )  # [13, 13] -> [11, 11]\n",
    "        self.maxpool2 = nn.MaxPool2d(kernel_size=(2, 2))  # [12, 12] -> [5, 5]\n",
    "        self.fc1 = nn.Linear(16*5*5, 120)\n",
    "        self.fc2 = nn.Linear(120, 84)\n",
    "        self.fc3 = nn.Linear(84, 10)\n",
    "\n",
    "    #\n",
    "    def forward(self, x):\n",
    "        r\"\"\"Implements the forward pass of the model.\n",
    "\n",
    "        Parameters\n",
    "        ----------\n",
    "        x:\n",
    "            The input.\n",
    "            SHAPE: [<batch>, <in_channel=1>, <height=28>, <width=28>].\n",
    "\n",
    "        Returns\n",
    "        -------\n",
    "        logits (implicit):\n",
    "            The logits for the input.\n",
    "            SHAPE: [<batch>, <num_classes=10>].\n",
    "        \"\"\"\n",
    "        # Conv and pool layers.\n",
    "        y1 = self.maxpool1(F.relu(self.conv1(x)))\n",
    "        y2 = self.maxpool2(F.relu(self.conv2(y1)))\n",
    "        # Linearization followed by fully connected layers.\n",
    "        y3 = F.relu(self.fc1(y2.view(y2.shape[0], -1)))\n",
    "        y4 = F.relu(self.fc2(y3))\n",
    "        return self.fc3(y4)"
   ],
   "metadata": {
    "collapsed": false,
    "pycharm": {
     "name": "#%%\n"
    }
   }
  },
  {
   "cell_type": "code",
   "execution_count": 26,
   "outputs": [
    {
     "name": "stdout",
     "output_type": "stream",
     "text": [
      "LeNet(\n",
      "  (conv1): Conv2d(1, 6, kernel_size=(3, 3), stride=(1, 1))\n",
      "  (maxpool1): MaxPool2d(kernel_size=(2, 2), stride=(2, 2), padding=0, dilation=1, ceil_mode=False)\n",
      "  (conv2): Conv2d(6, 16, kernel_size=(3, 3), stride=(1, 1))\n",
      "  (maxpool2): MaxPool2d(kernel_size=(2, 2), stride=(2, 2), padding=0, dilation=1, ceil_mode=False)\n",
      "  (fc1): Linear(in_features=400, out_features=120, bias=True)\n",
      "  (fc2): Linear(in_features=120, out_features=84, bias=True)\n",
      "  (fc3): Linear(in_features=84, out_features=10, bias=True)\n",
      ")\n"
     ]
    }
   ],
   "source": [
    "# Checking architecture\n",
    "model = LeNet()\n",
    "print(model)"
   ],
   "metadata": {
    "collapsed": false,
    "pycharm": {
     "name": "#%%\n"
    }
   }
  },
  {
   "cell_type": "code",
   "execution_count": 29,
   "outputs": [
    {
     "name": "stdout",
     "output_type": "stream",
     "text": [
      "input shape: torch.Size([16, 1, 28, 28])\n",
      "output shape: torch.Size([16, 10])\n"
     ]
    }
   ],
   "source": [
    "ip = torch.Tensor(16, 1, 28, 28).normal_()\n",
    "print('input shape:', ip.shape)\n",
    "op = model(ip)\n",
    "print('output shape:', op.shape)"
   ],
   "metadata": {
    "collapsed": false,
    "pycharm": {
     "name": "#%%\n"
    }
   }
  },
  {
   "cell_type": "code",
   "execution_count": null,
   "outputs": [],
   "source": [],
   "metadata": {
    "collapsed": false,
    "pycharm": {
     "name": "#%%\n"
    }
   }
  }
 ],
 "metadata": {
  "kernelspec": {
   "display_name": "Python 3",
   "language": "python",
   "name": "python3"
  },
  "language_info": {
   "codemirror_mode": {
    "name": "ipython",
    "version": 2
   },
   "file_extension": ".py",
   "mimetype": "text/x-python",
   "name": "python",
   "nbconvert_exporter": "python",
   "pygments_lexer": "ipython2",
   "version": "2.7.6"
  }
 },
 "nbformat": 4,
 "nbformat_minor": 0
}