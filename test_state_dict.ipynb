{
 "cells": [
  {
   "cell_type": "code",
   "execution_count": null,
   "metadata": {
    "collapsed": true
   },
   "outputs": [],
   "source": [
    "# Dependencies.\n",
    "import torch\n",
    "import torch.nn as nn\n",
    "import torch.optim as optim\n",
    "\n",
    "import numpy as np\n",
    "\n",
    "from collections import OrderedDict\n",
    "\n",
    "import copy"
   ]
  },
  {
   "cell_type": "code",
   "execution_count": null,
   "outputs": [],
   "source": [
    "# Set constants.\n",
    "BATCH_SIZE = 4\n",
    "NUM_EPOCHS = 100"
   ],
   "metadata": {
    "collapsed": false,
    "pycharm": {
     "name": "#%%\n"
    }
   }
  },
  {
   "cell_type": "code",
   "execution_count": null,
   "outputs": [],
   "source": [
    "class Model(nn.Module):\n",
    "    r\"\"\"Basic model.\n",
    "    \"\"\"\n",
    "\n",
    "    def __init__(self):\n",
    "        r\"\"\"The initializer.\n",
    "        \"\"\"\n",
    "        super(Model, self).__init__()\n",
    "        self.conv1 = nn.Conv2d(\n",
    "            in_channels=1, out_channels=2, kernel_size=(3, 3), stride=(1, 1), bias=True\n",
    "        )\n",
    "        self.bn1 = nn.BatchNorm2d(num_features=2)\n",
    "        self.act1 = nn.ReLU()\n",
    "        self.pool1 = nn.AvgPool2d(kernel_size=(2, 2), stride=(1, 1))\n",
    "\n",
    "    def forward(self, x: torch.Tensor) -> torch.Tensor:\n",
    "        r\"\"\"\n",
    "\n",
    "        Parameters\n",
    "        ----------\n",
    "        x:\n",
    "            Input tensor.\n",
    "            SHAPE: [B, C_in, H, W].\n",
    "\n",
    "        Returns\n",
    "        -------\n",
    "        feature (implicit):\n",
    "            Tensor of features of the input.\n",
    "            SHAPE: [B, C_out, H_out, W_out].\n",
    "        \"\"\"\n",
    "        return self.pool1(\n",
    "            self.act1(\n",
    "                self.bn1(\n",
    "                    self.conv1(\n",
    "                        x\n",
    "                    )\n",
    "                )\n",
    "            )\n",
    "        )"
   ],
   "metadata": {
    "collapsed": false,
    "pycharm": {
     "name": "#%%\n"
    }
   }
  },
  {
   "cell_type": "code",
   "execution_count": null,
   "outputs": [],
   "source": [
    "model = Model()\n",
    "print('model:\\n{}'.format(model))"
   ],
   "metadata": {
    "collapsed": false,
    "pycharm": {
     "name": "#%%\n"
    }
   }
  },
  {
   "cell_type": "code",
   "execution_count": null,
   "outputs": [],
   "source": [
    "state_dict = model.state_dict()\n",
    "for name, value in state_dict.items():\n",
    "    print('*'*79)\n",
    "    print('{}:\\n{}'.format(name, value))"
   ],
   "metadata": {
    "collapsed": false,
    "pycharm": {
     "name": "#%%\n"
    }
   }
  },
  {
   "cell_type": "code",
   "execution_count": null,
   "outputs": [],
   "source": [
    "# Print the state dict of the model.\n",
    "print('state dict of the model:\\n{}'.format(state_dict))"
   ],
   "metadata": {
    "collapsed": false,
    "pycharm": {
     "name": "#%%\n"
    }
   }
  },
  {
   "cell_type": "code",
   "execution_count": null,
   "outputs": [],
   "source": [
    "# Explore the state dictionary.\n",
    "print('*'*79)\n",
    "print('state dict length: {}'.format(len(state_dict)))\n",
    "print('*'*79)\n",
    "for key in state_dict:\n",
    "    print('key: {}\\n\\tkey type: {}'.format(key, type(key)))\n",
    "print('*'*79)\n",
    "for key, value in state_dict.items():\n",
    "    print('key: {}\\nvalue: {}'.format(key, value))\n",
    "print('*'*79)\n",
    "for key, value in state_dict.items():\n",
    "    print('key: {}\\n\\tvalue type: {}'.format(key, type(value)))"
   ],
   "metadata": {
    "collapsed": false,
    "pycharm": {
     "name": "#%%\n"
    }
   }
  },
  {
   "cell_type": "code",
   "execution_count": null,
   "outputs": [],
   "source": [
    "# Create a custom list and then convert to ordered dict.\n",
    "data_list: list = [\n",
    "    ('entry_0', 0),\n",
    "    ('entry_1', '1')\n",
    "]\n",
    "print('*'*79)\n",
    "print('data as list:\\n{}'.format(data_list))\n",
    "data_ord_dict: OrderedDict = OrderedDict(data_list)\n",
    "print('*'*79)\n",
    "print('data as ordered dict:\\n{}'.format(data_ord_dict))\n"
   ],
   "metadata": {
    "collapsed": false,
    "pycharm": {
     "name": "#%%\n"
    }
   }
  },
  {
   "cell_type": "code",
   "execution_count": null,
   "outputs": [],
   "source": [
    "# Create a state-dict on the fly.\n",
    "custom_state_dict: OrderedDict = OrderedDict()\n",
    "custom_state_dict['conv1.weight'] = torch.ones_like(model.conv1.weight.data)*1.0\n",
    "custom_state_dict['conv1.bias'] = torch.ones_like(model.conv1.bias.data)*2.0\n",
    "custom_state_dict['bn1.weight'] = torch.ones_like(model.bn1.weight.data)*3.0\n",
    "custom_state_dict['bn1.bias'] = torch.ones_like(model.bn1.bias.data)*4.0\n",
    "custom_state_dict['bn1.running_mean'] = torch.ones_like(model.bn1.running_mean.data)*5.0\n",
    "custom_state_dict['bn1.running_var'] = torch.ones_like(model.bn1.running_var.data)*6.0\n",
    "custom_state_dict['bn1.num_batches_tracked'] = torch.ones_like(model.bn1.num_batches_tracked.data)*7.0"
   ],
   "metadata": {
    "collapsed": false,
    "pycharm": {
     "name": "#%%\n"
    }
   }
  },
  {
   "cell_type": "code",
   "execution_count": null,
   "outputs": [],
   "source": [
    "# Load the model to this custom state dictionary.\n",
    "model.load_state_dict(custom_state_dict)"
   ],
   "metadata": {
    "collapsed": false,
    "pycharm": {
     "name": "#%%\n"
    }
   }
  },
  {
   "cell_type": "code",
   "execution_count": null,
   "outputs": [],
   "source": [
    "# Explore the updated state dictionary.\n",
    "manually_updated_state_dict = copy.deepcopy(model.state_dict())\n",
    "print('*'*79)\n",
    "print('state dict length: {}'.format(len(manually_updated_state_dict)))\n",
    "print('*'*79)\n",
    "for key in manually_updated_state_dict:\n",
    "    print('key: {}\\n\\tkey type: {}'.format(key, type(key)))\n",
    "print('*'*79)\n",
    "for key, value in manually_updated_state_dict.items():\n",
    "    print('key: {}\\nvalue: {}'.format(key, value))\n",
    "print('*'*79)\n",
    "for key, value in manually_updated_state_dict.items():\n",
    "    print('key: {}\\n\\tvalue type: {}'.format(key, type(value)))"
   ],
   "metadata": {
    "collapsed": false,
    "pycharm": {
     "name": "#%%\n"
    }
   }
  },
  {
   "cell_type": "code",
   "execution_count": null,
   "outputs": [],
   "source": [
    "# Check output shape.\n",
    "with torch.no_grad():\n",
    "    model = model.eval()\n",
    "    x_trial = torch.randn(size=(BATCH_SIZE, 1, 5, 5))\n",
    "    print('output shape: {}'.format(\n",
    "        model(x_trial).shape\n",
    "    ))\n",
    "model = model.eval()"
   ],
   "metadata": {
    "collapsed": false,
    "pycharm": {
     "name": "#%%\n"
    }
   }
  },
  {
   "cell_type": "code",
   "execution_count": null,
   "outputs": [],
   "source": [
    "# Create input-output data.\n",
    "x = torch.randn(size=(BATCH_SIZE, 1, 5, 5))\n",
    "y = torch.randn(size=(BATCH_SIZE, 2, 2, 2))"
   ],
   "metadata": {
    "collapsed": false,
    "pycharm": {
     "name": "#%%\n"
    }
   }
  },
  {
   "cell_type": "code",
   "execution_count": null,
   "outputs": [],
   "source": [
    "optimizer = optim.SGD(params=model.parameters(), lr=1e-3)\n",
    "old_state = model.state_dict()"
   ],
   "metadata": {
    "collapsed": false,
    "pycharm": {
     "name": "#%%\n"
    }
   }
  },
  {
   "cell_type": "code",
   "execution_count": null,
   "outputs": [],
   "source": [
    "# Explore the updated state dictionary.\n",
    "print('*'*79)\n",
    "print('state dict length: {}'.format(len(old_state)))\n",
    "print('*'*79)\n",
    "for key in old_state:\n",
    "    print('key: {}\\n\\tkey type: {}'.format(key, type(key)))\n",
    "print('*'*79)\n",
    "for key, value in old_state.items():\n",
    "    print('key: {}\\nvalue: {}'.format(key, value))\n",
    "print('*'*79)\n",
    "for key, value in old_state.items():\n",
    "    print('key: {}\\n\\tvalue type: {}'.format(key, type(value)))"
   ],
   "metadata": {
    "collapsed": false,
    "pycharm": {
     "name": "#%%\n"
    }
   }
  },
  {
   "cell_type": "code",
   "execution_count": null,
   "outputs": [],
   "source": [
    "model = model.train()\n",
    "first_loss = None\n",
    "\n",
    "for epoch in range(NUM_EPOCHS):\n",
    "    optimizer.zero_grad()\n",
    "    y_pred = model(x)\n",
    "    loss = torch.mean((y - y_pred)**2)\n",
    "    loss.backward()\n",
    "    optimizer.step()\n",
    "    print('epoch: {}\\t\\tloss: {}'.format(\n",
    "        epoch, loss.detach().numpy()\n",
    "    ))\n",
    "    if epoch == 0:\n",
    "        first_loss = loss.detach().numpy()"
   ],
   "metadata": {
    "collapsed": false,
    "pycharm": {
     "name": "#%%\n"
    }
   }
  },
  {
   "cell_type": "code",
   "execution_count": null,
   "outputs": [],
   "source": [
    "# Explore the updated state dictionary.\n",
    "trained_model_state_dict = model.state_dict()\n",
    "print('*'*79)\n",
    "print('state dict length: {}'.format(len(trained_model_state_dict)))\n",
    "print('*'*79)\n",
    "for key in trained_model_state_dict:\n",
    "    print('key: {}\\n\\tkey type: {}'.format(key, type(key)))\n",
    "print('*'*79)\n",
    "for key, value in trained_model_state_dict.items():\n",
    "    print('key: {}\\nvalue: {}'.format(key, value))\n",
    "print('*'*79)\n",
    "for key, value in trained_model_state_dict.items():\n",
    "    print('key: {}\\n\\tvalue type: {}'.format(key, type(value)))"
   ],
   "metadata": {
    "collapsed": false,
    "pycharm": {
     "name": "#%%\n"
    }
   }
  },
  {
   "cell_type": "code",
   "execution_count": null,
   "outputs": [],
   "source": [
    "\"\"\"\n",
    "State dicts obtained earlier pass the tensors by reference.\n",
    "Thus, when the model updates, so does the state dict obtained earlier.\n",
    "In order to create a separate copy of the whole state dict, `copy.deepcopy` should be used.\n",
    "\"\"\"\n",
    "# Reset the earlier model state and check the loss.\n",
    "model.load_state_dict(manually_updated_state_dict)\n",
    "state_dict_after_reset = model.state_dict()\n",
    "# Explore the updated state dictionary.\n",
    "print('*'*79)\n",
    "print('state dict length: {}'.format(len(state_dict_after_reset)))\n",
    "print('*'*79)\n",
    "for key in state_dict_after_reset:\n",
    "    print('key: {}\\n\\tkey type: {}'.format(key, type(key)))\n",
    "print('*'*79)\n",
    "for key, value in state_dict_after_reset.items():\n",
    "    print('key: {}\\nvalue: {}'.format(key, value))\n",
    "print('*'*79)\n",
    "for key, value in state_dict_after_reset.items():\n",
    "    print('key: {}\\n\\tvalue type: {}'.format(key, type(value)))"
   ],
   "metadata": {
    "collapsed": false,
    "pycharm": {
     "name": "#%%\n"
    }
   }
  },
  {
   "cell_type": "code",
   "execution_count": null,
   "outputs": [],
   "source": [
    "# Reset the earlier model state and check the loss.\n",
    "model.load_state_dict(custom_state_dict)\n",
    "state_dict_after_reset_to_custom = model.state_dict()\n",
    "# Explore the updated state dictionary.\n",
    "print('*'*79)\n",
    "print('state dict length: {}'.format(len(state_dict_after_reset_to_custom)))\n",
    "print('*'*79)\n",
    "for key in state_dict_after_reset_to_custom:\n",
    "    print('key: {}\\n\\tkey type: {}'.format(key, type(key)))\n",
    "print('*'*79)\n",
    "for key, value in state_dict_after_reset_to_custom.items():\n",
    "    print('key: {}\\nvalue: {}'.format(key, value))\n",
    "print('*'*79)\n",
    "for key, value in state_dict_after_reset_to_custom.items():\n",
    "    print('key: {}\\n\\tvalue type: {}'.format(key, type(value)))"
   ],
   "metadata": {
    "collapsed": false,
    "pycharm": {
     "name": "#%%\n"
    }
   }
  },
  {
   "cell_type": "code",
   "execution_count": null,
   "outputs": [],
   "source": [
    "model = model.train()\n",
    "y_pred = model(x)\n",
    "loss = torch.mean((y - y_pred)**2)\n",
    "first_loss_after_reset = loss.detach().numpy()\n",
    "print('*'*79)\n",
    "print('first loss before reset:\\n{}'.format(first_loss))\n",
    "print('*'*79)\n",
    "print('first loss after reset:\\n{}'.format(first_loss_after_reset))\n",
    "print('*'*79)\n",
    "print('discrepancy: {}'.format(np.linalg.norm(first_loss_after_reset - first_loss)))"
   ],
   "metadata": {
    "collapsed": false,
    "pycharm": {
     "name": "#%%\n"
    }
   }
  },
  {
   "cell_type": "code",
   "execution_count": null,
   "outputs": [],
   "source": [],
   "metadata": {
    "collapsed": false,
    "pycharm": {
     "name": "#%%\n"
    }
   }
  }
 ],
 "metadata": {
  "kernelspec": {
   "display_name": "Python 3",
   "language": "python",
   "name": "python3"
  },
  "language_info": {
   "codemirror_mode": {
    "name": "ipython",
    "version": 2
   },
   "file_extension": ".py",
   "mimetype": "text/x-python",
   "name": "python",
   "nbconvert_exporter": "python",
   "pygments_lexer": "ipython2",
   "version": "2.7.6"
  }
 },
 "nbformat": 4,
 "nbformat_minor": 0
}