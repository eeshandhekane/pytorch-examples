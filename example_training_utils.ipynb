{
 "cells": [
  {
   "cell_type": "code",
   "execution_count": 1,
   "metadata": {
    "collapsed": true
   },
   "outputs": [],
   "source": [
    "# Dependencies.\n",
    "import torch"
   ]
  },
  {
   "cell_type": "code",
   "execution_count": 2,
   "outputs": [],
   "source": [
    "#\n",
    "def save_checkpoint(path, **kwargs) -> None:\n",
    "\tr\"\"\"Inputs keyword arguments dictionary and saves in a torch checkpoint.\n",
    "\n",
    "\tParameters\n",
    "\t----------\n",
    "\tpath:\n",
    "\t\tThe path at which to save the checkpoint.\n",
    "\n",
    "\tkwargs:\n",
    "\t\tKeyword argument dictionary to save\n",
    "\n",
    "\tReturns\n",
    "\t-------\n",
    "\t\"\"\"\n",
    "\ttorch.save(kwargs, path)"
   ],
   "metadata": {
    "collapsed": false,
    "pycharm": {
     "name": "#%%\n"
    }
   }
  },
  {
   "cell_type": "code",
   "execution_count": 3,
   "outputs": [],
   "source": [
    "#\n",
    "def set_model_to_mode(model: torch.nn.Module, train: bool = True) -> torch.nn.Module:\n",
    "\tr\"\"\"Sets the given model to the given mode. If `train = True`, the\n",
    "\tmodel is set as `model = model.train()` and otherwise,\n",
    "\t`model = model.eval()`.\n",
    "\n",
    "\tParameters\n",
    "\t----------\n",
    "\tmodel:\n",
    "\t\tThe model given to be set to a mode.\n",
    "\n",
    "\ttrain:\n",
    "\t\tWhether to set the model for the training mode.\n",
    "\n",
    "\tReturns\n",
    "\t-------\n",
    "\tmodel:\n",
    "\t\tThe reference to the model after in-place setting it to the mode.\n",
    "\t\"\"\"\n",
    "\tif train:\n",
    "\t\treturn model.train()\n",
    "\telse:\n",
    "\t\treturn model.eval()"
   ],
   "metadata": {
    "collapsed": false,
    "pycharm": {
     "name": "#%%\n"
    }
   }
  },
  {
   "cell_type": "code",
   "execution_count": 4,
   "outputs": [],
   "source": [
    "#\n",
    "def get_device() -> torch.device:\n",
    "\tr\"\"\"Finds and returns the best device to run the experiment.\n",
    "\n",
    "\tParameters\n",
    "\t----------\n",
    "\n",
    "\tReturns\n",
    "\t-------\n",
    "\tdevice (implicit):\n",
    "\t\tReturns `torch.device('cuda')` if GPU is available and returns\n",
    "\t\t`torch.device('cpu')` otherwise.\n",
    "\t\"\"\"\n",
    "\treturn torch.device('cuda') if torch.cuda.is_available() \\\n",
    "\t\telse torch.device('cpu')"
   ],
   "metadata": {
    "collapsed": false,
    "pycharm": {
     "name": "#%%\n"
    }
   }
  },
  {
   "cell_type": "code",
   "execution_count": 4,
   "outputs": [],
   "source": [],
   "metadata": {
    "collapsed": false,
    "pycharm": {
     "name": "#%%\n"
    }
   }
  }
 ],
 "metadata": {
  "kernelspec": {
   "display_name": "Python 3",
   "language": "python",
   "name": "python3"
  },
  "language_info": {
   "codemirror_mode": {
    "name": "ipython",
    "version": 2
   },
   "file_extension": ".py",
   "mimetype": "text/x-python",
   "name": "python",
   "nbconvert_exporter": "python",
   "pygments_lexer": "ipython2",
   "version": "2.7.6"
  }
 },
 "nbformat": 4,
 "nbformat_minor": 0
}